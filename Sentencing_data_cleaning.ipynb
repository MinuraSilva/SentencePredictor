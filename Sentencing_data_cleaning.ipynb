{
 "cells": [
  {
   "cell_type": "code",
   "execution_count": 124,
   "metadata": {},
   "outputs": [],
   "source": [
    "import numpy as np\n",
    "import pandas as pd\n",
    "import matplotlib.pyplot as plt\n",
    "from datetime import datetime"
   ]
  },
  {
   "cell_type": "code",
   "execution_count": 125,
   "metadata": {},
   "outputs": [],
   "source": [
    "import missingno\n",
    "import seaborn"
   ]
  },
  {
   "cell_type": "code",
   "execution_count": 126,
   "metadata": {},
   "outputs": [],
   "source": [
    "plt.style.use('ggplot')"
   ]
  },
  {
   "cell_type": "code",
   "execution_count": 127,
   "metadata": {},
   "outputs": [],
   "source": [
    "pd.options.display.max_columns = None  # to force pandas to display all columns"
   ]
  },
  {
   "cell_type": "code",
   "execution_count": 128,
   "metadata": {},
   "outputs": [],
   "source": [
    "pd.options.display.max_rows = None  # to force pandas to display all rows.\n",
    "# Warning: always remember to use .head() when looking at complete dataset to prevent displaying all rows"
   ]
  },
  {
   "cell_type": "code",
   "execution_count": 129,
   "metadata": {},
   "outputs": [],
   "source": [
    "pd.options.display.max_colwidth = 100  # to limit max column width. (To remove limit Set to 0.)"
   ]
  },
  {
   "cell_type": "markdown",
   "metadata": {},
   "source": [
    "Note: This notebook uses the [Sentencing dataset](https://datacatalog.cookcountyil.gov/Courts/Sentencing/tg8v-tm6u) from the Cook County Government."
   ]
  },
  {
   "cell_type": "markdown",
   "metadata": {},
   "source": [
    "# Load Dataset"
   ]
  },
  {
   "cell_type": "code",
   "execution_count": 130,
   "metadata": {},
   "outputs": [
    {
     "name": "stderr",
     "output_type": "stream",
     "text": [
      "C:\\Users\\minur\\Anaconda3\\lib\\site-packages\\IPython\\core\\interactiveshell.py:3051: DtypeWarning: Columns (8,9,22) have mixed types. Specify dtype option on import or set low_memory=False.\n",
      "  interactivity=interactivity, compiler=compiler, result=result)\n"
     ]
    },
    {
     "name": "stdout",
     "output_type": "stream",
     "text": [
      "Loaded dataset from CSV.\n"
     ]
    }
   ],
   "source": [
    "direct_download_link = \"https://datacatalog.cookcountyil.gov/api/views/tg8v-tm6u/rows.csv?accessType=DOWNLOAD\"\n",
    "csv_filepath = \"Sentencing.csv\"\n",
    "try:\n",
    "    sentencing_orig = pd.read_csv(csv_filepath,\n",
    "                                  parse_dates=[\"DISPOSITION_DATE\", \"SENTENCE_DATE\",\n",
    "                                                 \"INCIDENT_BEGIN_DATE\", \"INCIDENT_END_DATE\",\n",
    "                                                 \"ARREST_DATE\", \"ARRAIGNMENT_DATE\", \"RECEIVED_DATE\"],\n",
    "                                  index_col=0)\n",
    "    print(\"Loaded dataset from CSV.\")\n",
    "except:\n",
    "    print(\"Could not find data. Downloading a ~100MB file. This will take a few minutes.\")\n",
    "    sentencing_orig = pd.read_csv(direct_download_link,\n",
    "                                  parse_dates=[\"DISPOSITION_DATE\", \"SENTENCE_DATE\",\n",
    "                                                 \"INCIDENT_BEGIN_DATE\", \"INCIDENT_END_DATE\",\n",
    "                                                 \"ARREST_DATE\", \"ARRAIGNMENT_DATE\", \"RECEIVED_DATE\"])\n",
    "    sentencing_orig.to_csv(csv_filepath, index=True)\n",
    "    print(f\"Downloaded CSV and saved to disk as {csv_filepath}\")"
   ]
  },
  {
   "cell_type": "code",
   "execution_count": 131,
   "metadata": {},
   "outputs": [],
   "source": [
    "# np.all(sentencing_orig_1.fillna(\"unknown\") == sentencing_orig.fillna(\"unknown\"))"
   ]
  },
  {
   "cell_type": "code",
   "execution_count": 132,
   "metadata": {},
   "outputs": [],
   "source": [
    "# sentencing_orig = pd.read_csv(\"Sentencing.csv\",\n",
    "#                               parse_dates=[\"DISPOSITION_DATE\", \"SENTENCE_DATE\", \"INCIDENT_BEGIN_DATE\", \"INCIDENT_END_DATE\", \"ARREST_DATE\", \"ARRAIGNMENT_DATE\", \"RECEIVED_DATE\"])"
   ]
  },
  {
   "cell_type": "code",
   "execution_count": 133,
   "metadata": {},
   "outputs": [
    {
     "data": {
      "text/plain": [
       "(236124, 39)"
      ]
     },
     "execution_count": 133,
     "metadata": {},
     "output_type": "execute_result"
    }
   ],
   "source": [
    "sentencing_orig.shape"
   ]
  },
  {
   "cell_type": "code",
   "execution_count": 134,
   "metadata": {},
   "outputs": [
    {
     "data": {
      "text/plain": [
       "Index(['CASE_ID', 'CASE_PARTICIPANT_ID', 'OFFENSE_CATEGORY', 'PRIMARY_CHARGE',\n",
       "       'CHARGE_ID', 'CHARGE_VERSION_ID', 'DISPOSITION_CHARGED_OFFENSE_TITLE',\n",
       "       'DISPOSITION_CHARGED_CHAPTER', 'DISPOSITION_CHARGED_ACT',\n",
       "       'DISPOSITION_CHARGED_SECTION', 'DISPOSITION_CHARGED_CLASS',\n",
       "       'DISPOSITION_CHARGED_AOIC', 'DISPOSITION_DATE', 'CHARGE_DISPOSITION',\n",
       "       'CHARGE_DISPOSITION_REASON', 'SENTENCE_PHASE', 'SENTENCE_DATE',\n",
       "       'SENTENCE_JUDGE', 'SENTENCE_TYPE', 'CURRENT_SENTENCE',\n",
       "       'COMMITMENT_TYPE', 'COMMITMENT_TERM', 'COMMITMENT_UNIT', 'COURT_NAME',\n",
       "       'COURT_FACILITY', 'LENGTH_OF_CASE_in_Days', 'AGE_AT_INCIDENT', 'GENDER',\n",
       "       'RACE', 'INCIDENT_BEGIN_DATE', 'INCIDENT_END_DATE', 'ARREST_DATE',\n",
       "       'LAW_ENFORCEMENT_AGENCY', 'UNIT', 'INCIDENT_CITY', 'RECEIVED_DATE',\n",
       "       'ARRAIGNMENT_DATE', 'UPDATED_OFFENSE_CATEGORY', 'CHARGE_COUNT'],\n",
       "      dtype='object')"
      ]
     },
     "execution_count": 134,
     "metadata": {},
     "output_type": "execute_result"
    }
   ],
   "source": [
    "sentencing_orig.columns"
   ]
  },
  {
   "cell_type": "code",
   "execution_count": 135,
   "metadata": {},
   "outputs": [
    {
     "data": {
      "text/html": [
       "<div>\n",
       "<style scoped>\n",
       "    .dataframe tbody tr th:only-of-type {\n",
       "        vertical-align: middle;\n",
       "    }\n",
       "\n",
       "    .dataframe tbody tr th {\n",
       "        vertical-align: top;\n",
       "    }\n",
       "\n",
       "    .dataframe thead th {\n",
       "        text-align: right;\n",
       "    }\n",
       "</style>\n",
       "<table border=\"1\" class=\"dataframe\">\n",
       "  <thead>\n",
       "    <tr style=\"text-align: right;\">\n",
       "      <th></th>\n",
       "      <th>CASE_ID</th>\n",
       "      <th>CASE_PARTICIPANT_ID</th>\n",
       "      <th>OFFENSE_CATEGORY</th>\n",
       "      <th>PRIMARY_CHARGE</th>\n",
       "      <th>CHARGE_ID</th>\n",
       "      <th>CHARGE_VERSION_ID</th>\n",
       "      <th>DISPOSITION_CHARGED_OFFENSE_TITLE</th>\n",
       "      <th>DISPOSITION_CHARGED_CHAPTER</th>\n",
       "      <th>DISPOSITION_CHARGED_ACT</th>\n",
       "      <th>DISPOSITION_CHARGED_SECTION</th>\n",
       "      <th>DISPOSITION_CHARGED_CLASS</th>\n",
       "      <th>DISPOSITION_CHARGED_AOIC</th>\n",
       "      <th>DISPOSITION_DATE</th>\n",
       "      <th>CHARGE_DISPOSITION</th>\n",
       "      <th>CHARGE_DISPOSITION_REASON</th>\n",
       "      <th>SENTENCE_PHASE</th>\n",
       "      <th>SENTENCE_DATE</th>\n",
       "      <th>SENTENCE_JUDGE</th>\n",
       "      <th>SENTENCE_TYPE</th>\n",
       "      <th>CURRENT_SENTENCE</th>\n",
       "      <th>COMMITMENT_TYPE</th>\n",
       "      <th>COMMITMENT_TERM</th>\n",
       "      <th>COMMITMENT_UNIT</th>\n",
       "      <th>COURT_NAME</th>\n",
       "      <th>COURT_FACILITY</th>\n",
       "      <th>LENGTH_OF_CASE_in_Days</th>\n",
       "      <th>AGE_AT_INCIDENT</th>\n",
       "      <th>GENDER</th>\n",
       "      <th>RACE</th>\n",
       "      <th>INCIDENT_BEGIN_DATE</th>\n",
       "      <th>INCIDENT_END_DATE</th>\n",
       "      <th>ARREST_DATE</th>\n",
       "      <th>LAW_ENFORCEMENT_AGENCY</th>\n",
       "      <th>UNIT</th>\n",
       "      <th>INCIDENT_CITY</th>\n",
       "      <th>RECEIVED_DATE</th>\n",
       "      <th>ARRAIGNMENT_DATE</th>\n",
       "      <th>UPDATED_OFFENSE_CATEGORY</th>\n",
       "      <th>CHARGE_COUNT</th>\n",
       "    </tr>\n",
       "  </thead>\n",
       "  <tbody>\n",
       "    <tr>\n",
       "      <th>0</th>\n",
       "      <td>44670309710</td>\n",
       "      <td>218297158761</td>\n",
       "      <td>PROMIS Conversion</td>\n",
       "      <td>False</td>\n",
       "      <td>297139645442</td>\n",
       "      <td>83571817251</td>\n",
       "      <td>FIRST DEGREE MURDER</td>\n",
       "      <td>38</td>\n",
       "      <td>-</td>\n",
       "      <td>9-1(a)(2)</td>\n",
       "      <td>X</td>\n",
       "      <td>0000001607</td>\n",
       "      <td>12/17/2014 12:00:00 AM</td>\n",
       "      <td>Nolle On Remand</td>\n",
       "      <td>NaN</td>\n",
       "      <td>Original Sentencing</td>\n",
       "      <td>6/2/1986 12:00:00 AM</td>\n",
       "      <td>John  Mannion</td>\n",
       "      <td>Conversion</td>\n",
       "      <td>True</td>\n",
       "      <td>Natural Life</td>\n",
       "      <td>NaN</td>\n",
       "      <td>NaN</td>\n",
       "      <td>District 6 - Markham</td>\n",
       "      <td>Markham Courthouse</td>\n",
       "      <td>619.0</td>\n",
       "      <td>27.0</td>\n",
       "      <td>Male</td>\n",
       "      <td>Black</td>\n",
       "      <td>1984-08-09</td>\n",
       "      <td>NaT</td>\n",
       "      <td>1984-08-15</td>\n",
       "      <td>CHICAGO POLICE DEPT</td>\n",
       "      <td>NaN</td>\n",
       "      <td>NaN</td>\n",
       "      <td>1984-08-15</td>\n",
       "      <td>9/21/1984 12:00:00 AM</td>\n",
       "      <td>Homicide</td>\n",
       "      <td>2</td>\n",
       "    </tr>\n",
       "    <tr>\n",
       "      <th>1</th>\n",
       "      <td>44670309710</td>\n",
       "      <td>218297158761</td>\n",
       "      <td>PROMIS Conversion</td>\n",
       "      <td>False</td>\n",
       "      <td>297176911341</td>\n",
       "      <td>94830742153</td>\n",
       "      <td>FIRST DEGREE MURDER</td>\n",
       "      <td>38</td>\n",
       "      <td>-</td>\n",
       "      <td>9-1(a)(3)</td>\n",
       "      <td>X</td>\n",
       "      <td>0000001608</td>\n",
       "      <td>12/17/2014 12:00:00 AM</td>\n",
       "      <td>Nolle On Remand</td>\n",
       "      <td>NaN</td>\n",
       "      <td>Original Sentencing</td>\n",
       "      <td>6/2/1986 12:00:00 AM</td>\n",
       "      <td>John  Mannion</td>\n",
       "      <td>Conversion</td>\n",
       "      <td>True</td>\n",
       "      <td>Natural Life</td>\n",
       "      <td>NaN</td>\n",
       "      <td>NaN</td>\n",
       "      <td>District 6 - Markham</td>\n",
       "      <td>Markham Courthouse</td>\n",
       "      <td>619.0</td>\n",
       "      <td>27.0</td>\n",
       "      <td>Male</td>\n",
       "      <td>Black</td>\n",
       "      <td>1984-08-09</td>\n",
       "      <td>NaT</td>\n",
       "      <td>1984-08-15</td>\n",
       "      <td>CHICAGO POLICE DEPT</td>\n",
       "      <td>NaN</td>\n",
       "      <td>NaN</td>\n",
       "      <td>1984-08-15</td>\n",
       "      <td>9/21/1984 12:00:00 AM</td>\n",
       "      <td>Homicide</td>\n",
       "      <td>4</td>\n",
       "    </tr>\n",
       "    <tr>\n",
       "      <th>2</th>\n",
       "      <td>44670309710</td>\n",
       "      <td>218297158761</td>\n",
       "      <td>PROMIS Conversion</td>\n",
       "      <td>False</td>\n",
       "      <td>297177207102</td>\n",
       "      <td>94826043158</td>\n",
       "      <td>FIRST DEGREE MURDER</td>\n",
       "      <td>38</td>\n",
       "      <td>-</td>\n",
       "      <td>9-1(a)(3)</td>\n",
       "      <td>X</td>\n",
       "      <td>0000001608</td>\n",
       "      <td>12/17/2014 12:00:00 AM</td>\n",
       "      <td>Nolle On Remand</td>\n",
       "      <td>NaN</td>\n",
       "      <td>Original Sentencing</td>\n",
       "      <td>6/2/1986 12:00:00 AM</td>\n",
       "      <td>John  Mannion</td>\n",
       "      <td>Conversion</td>\n",
       "      <td>True</td>\n",
       "      <td>Natural Life</td>\n",
       "      <td>NaN</td>\n",
       "      <td>NaN</td>\n",
       "      <td>District 6 - Markham</td>\n",
       "      <td>Markham Courthouse</td>\n",
       "      <td>619.0</td>\n",
       "      <td>27.0</td>\n",
       "      <td>Male</td>\n",
       "      <td>Black</td>\n",
       "      <td>1984-08-09</td>\n",
       "      <td>NaT</td>\n",
       "      <td>1984-08-15</td>\n",
       "      <td>CHICAGO POLICE DEPT</td>\n",
       "      <td>NaN</td>\n",
       "      <td>NaN</td>\n",
       "      <td>1984-08-15</td>\n",
       "      <td>9/21/1984 12:00:00 AM</td>\n",
       "      <td>Homicide</td>\n",
       "      <td>5</td>\n",
       "    </tr>\n",
       "    <tr>\n",
       "      <th>3</th>\n",
       "      <td>44670309710</td>\n",
       "      <td>218297158761</td>\n",
       "      <td>PROMIS Conversion</td>\n",
       "      <td>False</td>\n",
       "      <td>297178094385</td>\n",
       "      <td>70461958445</td>\n",
       "      <td>HOME INVASION</td>\n",
       "      <td>38-12-11-A(1)</td>\n",
       "      <td>NaN</td>\n",
       "      <td>NaN</td>\n",
       "      <td>X</td>\n",
       "      <td>0000001846</td>\n",
       "      <td>12/17/2014 12:00:00 AM</td>\n",
       "      <td>Plea Of Guilty</td>\n",
       "      <td>NaN</td>\n",
       "      <td>Amended/Corrected Sentencing</td>\n",
       "      <td>10/16/2014 12:00:00 AM</td>\n",
       "      <td>Clayton Jay Crane</td>\n",
       "      <td>Prison</td>\n",
       "      <td>True</td>\n",
       "      <td>Illinois Department of Corrections</td>\n",
       "      <td>30</td>\n",
       "      <td>Year(s)</td>\n",
       "      <td>District 6 - Markham</td>\n",
       "      <td>Markham Courthouse</td>\n",
       "      <td>10982.0</td>\n",
       "      <td>27.0</td>\n",
       "      <td>Male</td>\n",
       "      <td>Black</td>\n",
       "      <td>1984-08-09</td>\n",
       "      <td>NaT</td>\n",
       "      <td>1984-08-15</td>\n",
       "      <td>CHICAGO POLICE DEPT</td>\n",
       "      <td>NaN</td>\n",
       "      <td>NaN</td>\n",
       "      <td>1984-08-15</td>\n",
       "      <td>9/21/1984 12:00:00 AM</td>\n",
       "      <td>Homicide</td>\n",
       "      <td>13</td>\n",
       "    </tr>\n",
       "    <tr>\n",
       "      <th>4</th>\n",
       "      <td>44670309710</td>\n",
       "      <td>218297158761</td>\n",
       "      <td>PROMIS Conversion</td>\n",
       "      <td>False</td>\n",
       "      <td>297178094385</td>\n",
       "      <td>70461958445</td>\n",
       "      <td>HOME INVASION</td>\n",
       "      <td>38-12-11-A(1)</td>\n",
       "      <td>NaN</td>\n",
       "      <td>NaN</td>\n",
       "      <td>X</td>\n",
       "      <td>0000001846</td>\n",
       "      <td>12/17/2014 12:00:00 AM</td>\n",
       "      <td>Plea Of Guilty</td>\n",
       "      <td>NaN</td>\n",
       "      <td>Original Sentencing</td>\n",
       "      <td>6/2/1986 12:00:00 AM</td>\n",
       "      <td>John  Mannion</td>\n",
       "      <td>Conversion</td>\n",
       "      <td>False</td>\n",
       "      <td>Illinois Department of Corrections</td>\n",
       "      <td>30</td>\n",
       "      <td>Year(s)</td>\n",
       "      <td>District 6 - Markham</td>\n",
       "      <td>Markham Courthouse</td>\n",
       "      <td>619.0</td>\n",
       "      <td>27.0</td>\n",
       "      <td>Male</td>\n",
       "      <td>Black</td>\n",
       "      <td>1984-08-09</td>\n",
       "      <td>NaT</td>\n",
       "      <td>1984-08-15</td>\n",
       "      <td>CHICAGO POLICE DEPT</td>\n",
       "      <td>NaN</td>\n",
       "      <td>NaN</td>\n",
       "      <td>1984-08-15</td>\n",
       "      <td>9/21/1984 12:00:00 AM</td>\n",
       "      <td>Homicide</td>\n",
       "      <td>13</td>\n",
       "    </tr>\n",
       "  </tbody>\n",
       "</table>\n",
       "</div>"
      ],
      "text/plain": [
       "       CASE_ID  CASE_PARTICIPANT_ID   OFFENSE_CATEGORY  PRIMARY_CHARGE  \\\n",
       "0  44670309710         218297158761  PROMIS Conversion           False   \n",
       "1  44670309710         218297158761  PROMIS Conversion           False   \n",
       "2  44670309710         218297158761  PROMIS Conversion           False   \n",
       "3  44670309710         218297158761  PROMIS Conversion           False   \n",
       "4  44670309710         218297158761  PROMIS Conversion           False   \n",
       "\n",
       "      CHARGE_ID  CHARGE_VERSION_ID DISPOSITION_CHARGED_OFFENSE_TITLE  \\\n",
       "0  297139645442        83571817251               FIRST DEGREE MURDER   \n",
       "1  297176911341        94830742153               FIRST DEGREE MURDER   \n",
       "2  297177207102        94826043158               FIRST DEGREE MURDER   \n",
       "3  297178094385        70461958445                     HOME INVASION   \n",
       "4  297178094385        70461958445                     HOME INVASION   \n",
       "\n",
       "  DISPOSITION_CHARGED_CHAPTER DISPOSITION_CHARGED_ACT  \\\n",
       "0                          38                       -   \n",
       "1                          38                       -   \n",
       "2                          38                       -   \n",
       "3               38-12-11-A(1)                     NaN   \n",
       "4               38-12-11-A(1)                     NaN   \n",
       "\n",
       "  DISPOSITION_CHARGED_SECTION DISPOSITION_CHARGED_CLASS  \\\n",
       "0                   9-1(a)(2)                         X   \n",
       "1                   9-1(a)(3)                         X   \n",
       "2                   9-1(a)(3)                         X   \n",
       "3                         NaN                         X   \n",
       "4                         NaN                         X   \n",
       "\n",
       "  DISPOSITION_CHARGED_AOIC        DISPOSITION_DATE CHARGE_DISPOSITION  \\\n",
       "0               0000001607  12/17/2014 12:00:00 AM    Nolle On Remand   \n",
       "1               0000001608  12/17/2014 12:00:00 AM    Nolle On Remand   \n",
       "2               0000001608  12/17/2014 12:00:00 AM    Nolle On Remand   \n",
       "3               0000001846  12/17/2014 12:00:00 AM     Plea Of Guilty   \n",
       "4               0000001846  12/17/2014 12:00:00 AM     Plea Of Guilty   \n",
       "\n",
       "  CHARGE_DISPOSITION_REASON                SENTENCE_PHASE  \\\n",
       "0                       NaN           Original Sentencing   \n",
       "1                       NaN           Original Sentencing   \n",
       "2                       NaN           Original Sentencing   \n",
       "3                       NaN  Amended/Corrected Sentencing   \n",
       "4                       NaN           Original Sentencing   \n",
       "\n",
       "            SENTENCE_DATE     SENTENCE_JUDGE SENTENCE_TYPE  CURRENT_SENTENCE  \\\n",
       "0    6/2/1986 12:00:00 AM      John  Mannion    Conversion              True   \n",
       "1    6/2/1986 12:00:00 AM      John  Mannion    Conversion              True   \n",
       "2    6/2/1986 12:00:00 AM      John  Mannion    Conversion              True   \n",
       "3  10/16/2014 12:00:00 AM  Clayton Jay Crane        Prison              True   \n",
       "4    6/2/1986 12:00:00 AM      John  Mannion    Conversion             False   \n",
       "\n",
       "                      COMMITMENT_TYPE COMMITMENT_TERM COMMITMENT_UNIT  \\\n",
       "0                        Natural Life             NaN             NaN   \n",
       "1                        Natural Life             NaN             NaN   \n",
       "2                        Natural Life             NaN             NaN   \n",
       "3  Illinois Department of Corrections              30         Year(s)   \n",
       "4  Illinois Department of Corrections              30         Year(s)   \n",
       "\n",
       "             COURT_NAME      COURT_FACILITY  LENGTH_OF_CASE_in_Days  \\\n",
       "0  District 6 - Markham  Markham Courthouse                   619.0   \n",
       "1  District 6 - Markham  Markham Courthouse                   619.0   \n",
       "2  District 6 - Markham  Markham Courthouse                   619.0   \n",
       "3  District 6 - Markham  Markham Courthouse                 10982.0   \n",
       "4  District 6 - Markham  Markham Courthouse                   619.0   \n",
       "\n",
       "   AGE_AT_INCIDENT GENDER   RACE INCIDENT_BEGIN_DATE INCIDENT_END_DATE  \\\n",
       "0             27.0   Male  Black          1984-08-09               NaT   \n",
       "1             27.0   Male  Black          1984-08-09               NaT   \n",
       "2             27.0   Male  Black          1984-08-09               NaT   \n",
       "3             27.0   Male  Black          1984-08-09               NaT   \n",
       "4             27.0   Male  Black          1984-08-09               NaT   \n",
       "\n",
       "  ARREST_DATE LAW_ENFORCEMENT_AGENCY UNIT INCIDENT_CITY RECEIVED_DATE  \\\n",
       "0  1984-08-15    CHICAGO POLICE DEPT  NaN           NaN    1984-08-15   \n",
       "1  1984-08-15    CHICAGO POLICE DEPT  NaN           NaN    1984-08-15   \n",
       "2  1984-08-15    CHICAGO POLICE DEPT  NaN           NaN    1984-08-15   \n",
       "3  1984-08-15    CHICAGO POLICE DEPT  NaN           NaN    1984-08-15   \n",
       "4  1984-08-15    CHICAGO POLICE DEPT  NaN           NaN    1984-08-15   \n",
       "\n",
       "        ARRAIGNMENT_DATE UPDATED_OFFENSE_CATEGORY  CHARGE_COUNT  \n",
       "0  9/21/1984 12:00:00 AM                 Homicide             2  \n",
       "1  9/21/1984 12:00:00 AM                 Homicide             4  \n",
       "2  9/21/1984 12:00:00 AM                 Homicide             5  \n",
       "3  9/21/1984 12:00:00 AM                 Homicide            13  \n",
       "4  9/21/1984 12:00:00 AM                 Homicide            13  "
      ]
     },
     "execution_count": 135,
     "metadata": {},
     "output_type": "execute_result"
    }
   ],
   "source": [
    "# Preview\n",
    "sentencing_orig.head()"
   ]
  },
  {
   "cell_type": "markdown",
   "metadata": {},
   "source": [
    "#### __Categorize features by numeric / ordinal / categorical__"
   ]
  },
  {
   "cell_type": "code",
   "execution_count": 136,
   "metadata": {},
   "outputs": [],
   "source": [
    "# categorize features for preprocessing\n",
    "\n",
    "# features that don't affect the model\n",
    "drop_features = [\"CASE_ID\", \"CASE_PARTICIPANT_ID\", \"CHARGE_ID\", \"CHARGE_VERSION_ID\"]\n",
    "\n",
    "numeric_features = [\"LENGTH_OF_CASE_in_Days\",\"AGE_AT_INCIDENT\"]\n",
    "\n",
    "# features to be one-hot encoded\n",
    "categorical_features = [\"OFFENSE_CATEGORY\", \"DISPOSITION_CHARGED_OFFENSE_TITLE\", \"CHARGE_DISPOSITION\",\n",
    "                        \"SENTENCE_PHASE\", \"SENTENCE_JUDGE\", \"SENTENCE_TYPE\", \"COMMITMENT_TYPE\",\n",
    "                       \"COMMITMENT_TYPE\", \"GENDER\", \"RACE\", \"LAW_ENFORCEMENT_AGENCY\",\n",
    "                       \"UPDATED_OFFENSE_CATEGORY\", \"CHARGE_COUNT\"] #use one-hot encoding with drop first\n",
    "\n",
    "# these will also be one-hot encoded\n",
    "boolean_features = [\"CURRENT_SENTENCE\", \"PRIMARY_CHARGE\"]\n",
    "\n",
    "\n",
    "# ordinal encoding\n",
    "ordinal_features = []\n",
    "\n",
    "# to be dropped for now\n",
    "features_for_later = [\"COURT_NAME\", \"COURT_FACILITY\", \"INCIDENT_CITY\"]\n",
    "\n",
    "complex_or_unknown_features = [\"DISPOSITION_CHARGED_CHAPTER\", \"DISPOSITION_CHARGED_ACT\", \"DISPOSITION_CHARGED_SECTION\",\n",
    "                              \"DISPOSITION_CHARGED_CLASS\", \"DISPOSITION_CHARGED_AOIC\", \"UNIT\"]\n",
    "\n",
    "# to be dropped because not enough examples have feature\n",
    "too_many_missing_features = [\"CHARGE_DISPOSITION_REASON\"]\n",
    "\n",
    "# time features (also will be dropped for now)\n",
    "time_features = [b\"DISPOSITION_DATE\", \"SENTENCE_DATE\", \"INCIDENT_BEGIN_DATE\", \"INCIDENT_END_DATE\", \"ARREST_DATE\",\n",
    "                \"RECEIVED_DATE\", \"ARRAIGNMENT_DATE\"]\n",
    "\n",
    "# what we are predicting (y)\n",
    "target = [\"COMMITMENT_TERM\", \"COMMITMENT_UNIT\"]"
   ]
  },
  {
   "cell_type": "code",
   "execution_count": 137,
   "metadata": {},
   "outputs": [
    {
     "data": {
      "text/plain": [
       "CASE_ID                                       int64\n",
       "CASE_PARTICIPANT_ID                           int64\n",
       "OFFENSE_CATEGORY                             object\n",
       "PRIMARY_CHARGE                                 bool\n",
       "CHARGE_ID                                     int64\n",
       "CHARGE_VERSION_ID                             int64\n",
       "DISPOSITION_CHARGED_OFFENSE_TITLE            object\n",
       "DISPOSITION_CHARGED_CHAPTER                  object\n",
       "DISPOSITION_CHARGED_ACT                      object\n",
       "DISPOSITION_CHARGED_SECTION                  object\n",
       "DISPOSITION_CHARGED_CLASS                    object\n",
       "DISPOSITION_CHARGED_AOIC                     object\n",
       "DISPOSITION_DATE                             object\n",
       "CHARGE_DISPOSITION                           object\n",
       "CHARGE_DISPOSITION_REASON                    object\n",
       "SENTENCE_PHASE                               object\n",
       "SENTENCE_DATE                                object\n",
       "SENTENCE_JUDGE                               object\n",
       "SENTENCE_TYPE                                object\n",
       "CURRENT_SENTENCE                               bool\n",
       "COMMITMENT_TYPE                              object\n",
       "COMMITMENT_TERM                              object\n",
       "COMMITMENT_UNIT                              object\n",
       "COURT_NAME                                   object\n",
       "COURT_FACILITY                               object\n",
       "LENGTH_OF_CASE_in_Days                      float64\n",
       "AGE_AT_INCIDENT                             float64\n",
       "GENDER                                       object\n",
       "RACE                                         object\n",
       "INCIDENT_BEGIN_DATE                  datetime64[ns]\n",
       "INCIDENT_END_DATE                    datetime64[ns]\n",
       "ARREST_DATE                          datetime64[ns]\n",
       "LAW_ENFORCEMENT_AGENCY                       object\n",
       "UNIT                                         object\n",
       "INCIDENT_CITY                                object\n",
       "RECEIVED_DATE                        datetime64[ns]\n",
       "ARRAIGNMENT_DATE                             object\n",
       "UPDATED_OFFENSE_CATEGORY                     object\n",
       "CHARGE_COUNT                                  int64\n",
       "dtype: object"
      ]
     },
     "execution_count": 137,
     "metadata": {},
     "output_type": "execute_result"
    }
   ],
   "source": [
    "sentencing_orig.dtypes"
   ]
  },
  {
   "cell_type": "markdown",
   "metadata": {},
   "source": [
    "# Drop unused features once processing categorical sentences is complete\n",
    "- Features to be dropped:\n",
    "    - Features involving time\n",
    "        - DISPOSITION_DATE, SENTENCE_DATE, INCIDENT_BEGIN_DATE, INCIDENT_END_DATE, ARREST_DATE, RECEIVED_DATE, ARRAIGNMENT_DATE\n",
    "    - Unique identifiers:\n",
    "        - CASE_ID, CASE_PARTICIPANT_ID, CHARGE_ID, CHARGE_VERSION_ID, DISPOSITION_CHARGED_CHAPTER\n",
    "    - Features which seem to be useless (mostly ones that dont encode much information / has same value for all examples\n",
    "        - OFFENSE_CATEGORY\n",
    "        - \n",
    "    - Drop DISPOSITION_CHARGED_OFFENSE_TITLE and related features for two reasons\n",
    "        - Has far too many unique values\n",
    "             - UPDATED_OFFENSE_CATEGORY appears to be the final decision and where UPDATED_OFFENSE_CATEGORY differs significantly from DISPOSITION_CHARGED_OFFENSE_TITLE (such as change from First degree murder -> burglary), the sentence seems to match UPDATED_OFFENSE_CATEGORY.\n",
    "        - Other related features include:\n",
    "             - DISPOSITION_CHARGED_CHAPTER, DISPOSITION_CHARGED_ACT, DISPOSITION_CHARGED_SECTION, DISPOSITION_CHARGED_CLASS, DISPOSITION_CHARGED_AOIC, DISPOSITION_DATE, CHARGE_DISPOSITION_REASON\n",
    "    - Other features that are not related to the crime(I want a model that tries to not be biased towards factors that shouldn't make a diffference in the sentence). ALSO TRY WITH THESE FEATURES AND SEE HOW CHANGING IT CHANGES THE PREDICTION.\n",
    "        - SENTENCE_JUDGE, LENGTH_OF_CASE_in_Days, COMMITMENT_TYPE (to be dropped after findLifeSentences), COURT_NAME, COURT_FACILITY, LAW_ENFORCEMENT_AGENCY, UNIT (similar to agency, more specific)"
   ]
  },
  {
   "cell_type": "markdown",
   "metadata": {},
   "source": [
    "# Processing Categorical Sentences"
   ]
  },
  {
   "cell_type": "markdown",
   "metadata": {},
   "source": [
    "### Finding Life Sentences\n",
    "Life Sentence can appear in one of two columns (with the other column being NA).\n",
    "Below, I figure out which columns (COMMITMENT_TYPE/COMMITMENT_UNIT) contain this information and pull this out into a new column called 'categorical_sentence'."
   ]
  },
  {
   "cell_type": "code",
   "execution_count": 138,
   "metadata": {},
   "outputs": [
    {
     "name": "stderr",
     "output_type": "stream",
     "text": [
      "C:\\Users\\minur\\Anaconda3\\lib\\site-packages\\pandas\\core\\ops\\__init__.py:1115: FutureWarning: elementwise comparison failed; returning scalar instead, but in the future will perform elementwise comparison\n",
      "  result = method(y)\n"
     ]
    },
    {
     "name": "stdout",
     "output_type": "stream",
     "text": [
      "Number of rows with the words Natural Life 731\n",
      "Number of rows with the word life in SENTENCE_PHASE 0\n",
      "Number of rows with the word life in COMMITMENT_UNIT 712\n",
      "Number of rows with the word life in COMMITMENT_TERM 0\n",
      "Number of rows with the word life in COMMITMENT_TYPE 20\n",
      "Number of rows with the word life in SENTENCE_TYPE 0\n",
      "Number of rows with the word life in COMMITMENT_UNIT_and_SENTENCE_TYPE 1\n",
      "Number of rows with the word life in COMMITMENT_UNIT_or_SENTENCE_TYPE 731\n"
     ]
    }
   ],
   "source": [
    "#Trying to figure out which columns include 'Life Sentence'\n",
    "\n",
    "life_anywhere = sentencing_orig.eq('Natural Life').any(axis=1)\n",
    "life_SENTENCE_PHASE = sentencing_orig[\"SENTENCE_PHASE\"].str.contains(\"life|Life|LIFE\", na=False)       # Total 0\n",
    "life_COMMITMENT_UNIT = sentencing_orig[\"COMMITMENT_UNIT\"].str.contains(\"life|Life|LIFE\", na=False)     # Total 712\n",
    "life_COMMITMENT_TERM = sentencing_orig[\"COMMITMENT_TERM\"].str.contains(\"life|Life|LIFE\", na=False)     # Total 0\n",
    "life_COMMITMENT_TYPE = sentencing_orig[\"COMMITMENT_TYPE\"].str.contains(\"life|Life|LIFE\", na=False)     # Total 20\n",
    "# life_CURRENT_SENTENCE = sentencing_orig[\"CURRENT_SENTENCE\"].str.contains(\"life|Life\", na=False) # has problems but unlikely to contain life sentence so ignore.\n",
    "life_SENTENCE_TYPE = sentencing_orig[\"SENTENCE_TYPE\"].str.contains(\"life|Life|LIFE\", na=False)         # Total 0\n",
    "life_COMMITMENT_UNIT_and_SENTENCE_TYPE = life_COMMITMENT_UNIT & life_COMMITMENT_TYPE                   # Total 1\n",
    "life_COMMITMENT_UNIT_or_SENTENCE_TYPE = life_COMMITMENT_UNIT | life_COMMITMENT_TYPE                    # Total 731\n",
    "\n",
    "print(f\"Number of rows with the words Natural Life {life_anywhere.sum()}\")\n",
    "print(f\"Number of rows with the word life in SENTENCE_PHASE {life_SENTENCE_PHASE.sum()}\")\n",
    "print(f\"Number of rows with the word life in COMMITMENT_UNIT {life_COMMITMENT_UNIT.sum()}\")\n",
    "print(f\"Number of rows with the word life in COMMITMENT_TERM {life_COMMITMENT_TERM.sum()}\")\n",
    "print(f\"Number of rows with the word life in COMMITMENT_TYPE {life_COMMITMENT_TYPE.sum()}\")\n",
    "print(f\"Number of rows with the word life in SENTENCE_TYPE {life_SENTENCE_TYPE.sum()}\")\n",
    "print(f\"Number of rows with the word life in COMMITMENT_UNIT_and_SENTENCE_TYPE {life_COMMITMENT_UNIT_and_SENTENCE_TYPE.sum()}\")\n",
    "print(f\"Number of rows with the word life in COMMITMENT_UNIT_or_SENTENCE_TYPE {life_COMMITMENT_UNIT_or_SENTENCE_TYPE.sum()}\")\n",
    "\n",
    "# Conclusion: Life sentences appear either in COMMITMENT_UNIT or in COMMITMENT_TYPE columns"
   ]
  },
  {
   "cell_type": "code",
   "execution_count": 139,
   "metadata": {},
   "outputs": [],
   "source": [
    "def processLifeSentences(df):\n",
    "    \"\"\"\n",
    "    Input: Cook county dataset\n",
    "    Output: Cook county dataset with an additional column called 'categorical_sentence' which is \"Life\" for a life sentence and \"other\" for everything else.\n",
    "    \"\"\"\n",
    "    life_COMMITMENT_UNIT = df[\"COMMITMENT_UNIT\"].str.contains(\"life|Life|LIFE\", na=False)\n",
    "    life_COMMITMENT_TYPE = df[\"COMMITMENT_TYPE\"].str.contains(\"life|Life|LIFE\", na=False)\n",
    "    life_or_not = life_COMMITMENT_UNIT | life_COMMITMENT_TYPE\n",
    "    life_or_not = life_or_not.replace(True, \"Life\")\n",
    "    life_or_not = life_or_not.replace(False, \"Other\")\n",
    "    df.loc[:,\"categorical_sentence\"] = life_or_not\n",
    "    \n",
    "    return df    "
   ]
  },
  {
   "cell_type": "code",
   "execution_count": 140,
   "metadata": {},
   "outputs": [],
   "source": [
    "select_columns = [\"DISPOSITION_CHARGED_OFFENSE_TITLE\", \"UPDATED_OFFENSE_CATEGORY\", \"COMMITMENT_TYPE\", \"COMMITMENT_TERM\", \"COMMITMENT_UNIT\",  \"categorical_sentence\"]"
   ]
  },
  {
   "cell_type": "code",
   "execution_count": 141,
   "metadata": {},
   "outputs": [],
   "source": [
    "processed_life_sentences = processLifeSentences(sentencing_orig)"
   ]
  },
  {
   "cell_type": "code",
   "execution_count": 142,
   "metadata": {},
   "outputs": [
    {
     "data": {
      "text/plain": [
       "731"
      ]
     },
     "execution_count": 142,
     "metadata": {},
     "output_type": "execute_result"
    }
   ],
   "source": [
    "# Verify that 731 rows have Life sentence in the 'categorical_sentence' column\n",
    "(processed_life_sentences[\"categorical_sentence\"]==\"Life\").sum()"
   ]
  },
  {
   "cell_type": "code",
   "execution_count": 143,
   "metadata": {},
   "outputs": [
    {
     "data": {
      "text/plain": [
       "0"
      ]
     },
     "execution_count": 143,
     "metadata": {},
     "output_type": "execute_result"
    }
   ],
   "source": [
    "# Verify that no rows have been dropped\n",
    "len(sentencing_orig) - len(processed_life_sentences)"
   ]
  },
  {
   "cell_type": "code",
   "execution_count": 144,
   "metadata": {},
   "outputs": [
    {
     "data": {
      "text/html": [
       "<div>\n",
       "<style scoped>\n",
       "    .dataframe tbody tr th:only-of-type {\n",
       "        vertical-align: middle;\n",
       "    }\n",
       "\n",
       "    .dataframe tbody tr th {\n",
       "        vertical-align: top;\n",
       "    }\n",
       "\n",
       "    .dataframe thead th {\n",
       "        text-align: right;\n",
       "    }\n",
       "</style>\n",
       "<table border=\"1\" class=\"dataframe\">\n",
       "  <thead>\n",
       "    <tr style=\"text-align: right;\">\n",
       "      <th></th>\n",
       "      <th>DISPOSITION_CHARGED_OFFENSE_TITLE</th>\n",
       "      <th>UPDATED_OFFENSE_CATEGORY</th>\n",
       "      <th>COMMITMENT_TYPE</th>\n",
       "      <th>COMMITMENT_TERM</th>\n",
       "      <th>COMMITMENT_UNIT</th>\n",
       "      <th>categorical_sentence</th>\n",
       "    </tr>\n",
       "  </thead>\n",
       "  <tbody>\n",
       "    <tr>\n",
       "      <th>0</th>\n",
       "      <td>FIRST DEGREE MURDER</td>\n",
       "      <td>Homicide</td>\n",
       "      <td>Natural Life</td>\n",
       "      <td>NaN</td>\n",
       "      <td>NaN</td>\n",
       "      <td>Life</td>\n",
       "    </tr>\n",
       "    <tr>\n",
       "      <th>1</th>\n",
       "      <td>FIRST DEGREE MURDER</td>\n",
       "      <td>Homicide</td>\n",
       "      <td>Natural Life</td>\n",
       "      <td>NaN</td>\n",
       "      <td>NaN</td>\n",
       "      <td>Life</td>\n",
       "    </tr>\n",
       "    <tr>\n",
       "      <th>2</th>\n",
       "      <td>FIRST DEGREE MURDER</td>\n",
       "      <td>Homicide</td>\n",
       "      <td>Natural Life</td>\n",
       "      <td>NaN</td>\n",
       "      <td>NaN</td>\n",
       "      <td>Life</td>\n",
       "    </tr>\n",
       "    <tr>\n",
       "      <th>3</th>\n",
       "      <td>HOME INVASION</td>\n",
       "      <td>Homicide</td>\n",
       "      <td>Illinois Department of Corrections</td>\n",
       "      <td>30</td>\n",
       "      <td>Year(s)</td>\n",
       "      <td>Other</td>\n",
       "    </tr>\n",
       "    <tr>\n",
       "      <th>4</th>\n",
       "      <td>HOME INVASION</td>\n",
       "      <td>Homicide</td>\n",
       "      <td>Illinois Department of Corrections</td>\n",
       "      <td>30</td>\n",
       "      <td>Year(s)</td>\n",
       "      <td>Other</td>\n",
       "    </tr>\n",
       "    <tr>\n",
       "      <th>5</th>\n",
       "      <td>HOME INVASION</td>\n",
       "      <td>Homicide</td>\n",
       "      <td>Illinois Department of Corrections</td>\n",
       "      <td>30</td>\n",
       "      <td>Year(s)</td>\n",
       "      <td>Other</td>\n",
       "    </tr>\n",
       "    <tr>\n",
       "      <th>6</th>\n",
       "      <td>ARMED ROBBERY</td>\n",
       "      <td>Homicide</td>\n",
       "      <td>Illinois Department of Corrections</td>\n",
       "      <td>30</td>\n",
       "      <td>Year(s)</td>\n",
       "      <td>Other</td>\n",
       "    </tr>\n",
       "    <tr>\n",
       "      <th>7</th>\n",
       "      <td>ARMED ROBBERY</td>\n",
       "      <td>Homicide</td>\n",
       "      <td>Illinois Department of Corrections</td>\n",
       "      <td>30</td>\n",
       "      <td>Year(s)</td>\n",
       "      <td>Other</td>\n",
       "    </tr>\n",
       "    <tr>\n",
       "      <th>8</th>\n",
       "      <td>ARMED ROBBERY</td>\n",
       "      <td>Homicide</td>\n",
       "      <td>Illinois Department of Corrections</td>\n",
       "      <td>30</td>\n",
       "      <td>Year(s)</td>\n",
       "      <td>Other</td>\n",
       "    </tr>\n",
       "    <tr>\n",
       "      <th>9</th>\n",
       "      <td>FIRST DEGREE MURDER</td>\n",
       "      <td>Homicide</td>\n",
       "      <td>Illinois Department of Corrections</td>\n",
       "      <td>62</td>\n",
       "      <td>Year(s)</td>\n",
       "      <td>Other</td>\n",
       "    </tr>\n",
       "    <tr>\n",
       "      <th>10</th>\n",
       "      <td>FIRST DEGREE MURDER</td>\n",
       "      <td>Homicide</td>\n",
       "      <td>Natural Life</td>\n",
       "      <td>NaN</td>\n",
       "      <td>NaN</td>\n",
       "      <td>Life</td>\n",
       "    </tr>\n",
       "    <tr>\n",
       "      <th>11</th>\n",
       "      <td>ATTEMPT ARMED ROBBERY=720-5\\8-4(18-2(A))</td>\n",
       "      <td>Homicide</td>\n",
       "      <td>Illinois Department of Corrections</td>\n",
       "      <td>15</td>\n",
       "      <td>Year(s)</td>\n",
       "      <td>Other</td>\n",
       "    </tr>\n",
       "    <tr>\n",
       "      <th>12</th>\n",
       "      <td>ATTEMPT ARMED ROBBERY=720-5\\8-4(18-2(A))</td>\n",
       "      <td>Homicide</td>\n",
       "      <td>Illinois Department of Corrections</td>\n",
       "      <td>15</td>\n",
       "      <td>Year(s)</td>\n",
       "      <td>Other</td>\n",
       "    </tr>\n",
       "    <tr>\n",
       "      <th>13</th>\n",
       "      <td>ATT(MURDER)=720-5\\8-4(9-1(A)(1-3))</td>\n",
       "      <td>Homicide</td>\n",
       "      <td>Illinois Department of Corrections</td>\n",
       "      <td>30</td>\n",
       "      <td>Year(s)</td>\n",
       "      <td>Other</td>\n",
       "    </tr>\n",
       "    <tr>\n",
       "      <th>14</th>\n",
       "      <td>ATT(MURDER)=720-5\\8-4(9-1(A)(1-3))</td>\n",
       "      <td>Homicide</td>\n",
       "      <td>Illinois Department of Corrections</td>\n",
       "      <td>30</td>\n",
       "      <td>Year(s)</td>\n",
       "      <td>Other</td>\n",
       "    </tr>\n",
       "  </tbody>\n",
       "</table>\n",
       "</div>"
      ],
      "text/plain": [
       "           DISPOSITION_CHARGED_OFFENSE_TITLE UPDATED_OFFENSE_CATEGORY  \\\n",
       "0                        FIRST DEGREE MURDER                 Homicide   \n",
       "1                        FIRST DEGREE MURDER                 Homicide   \n",
       "2                        FIRST DEGREE MURDER                 Homicide   \n",
       "3                              HOME INVASION                 Homicide   \n",
       "4                              HOME INVASION                 Homicide   \n",
       "5                              HOME INVASION                 Homicide   \n",
       "6                              ARMED ROBBERY                 Homicide   \n",
       "7                              ARMED ROBBERY                 Homicide   \n",
       "8                              ARMED ROBBERY                 Homicide   \n",
       "9                        FIRST DEGREE MURDER                 Homicide   \n",
       "10                       FIRST DEGREE MURDER                 Homicide   \n",
       "11  ATTEMPT ARMED ROBBERY=720-5\\8-4(18-2(A))                 Homicide   \n",
       "12  ATTEMPT ARMED ROBBERY=720-5\\8-4(18-2(A))                 Homicide   \n",
       "13        ATT(MURDER)=720-5\\8-4(9-1(A)(1-3))                 Homicide   \n",
       "14        ATT(MURDER)=720-5\\8-4(9-1(A)(1-3))                 Homicide   \n",
       "\n",
       "                       COMMITMENT_TYPE COMMITMENT_TERM COMMITMENT_UNIT  \\\n",
       "0                         Natural Life             NaN             NaN   \n",
       "1                         Natural Life             NaN             NaN   \n",
       "2                         Natural Life             NaN             NaN   \n",
       "3   Illinois Department of Corrections              30         Year(s)   \n",
       "4   Illinois Department of Corrections              30         Year(s)   \n",
       "5   Illinois Department of Corrections              30         Year(s)   \n",
       "6   Illinois Department of Corrections              30         Year(s)   \n",
       "7   Illinois Department of Corrections              30         Year(s)   \n",
       "8   Illinois Department of Corrections              30         Year(s)   \n",
       "9   Illinois Department of Corrections              62         Year(s)   \n",
       "10                        Natural Life             NaN             NaN   \n",
       "11  Illinois Department of Corrections              15         Year(s)   \n",
       "12  Illinois Department of Corrections              15         Year(s)   \n",
       "13  Illinois Department of Corrections              30         Year(s)   \n",
       "14  Illinois Department of Corrections              30         Year(s)   \n",
       "\n",
       "   categorical_sentence  \n",
       "0                  Life  \n",
       "1                  Life  \n",
       "2                  Life  \n",
       "3                 Other  \n",
       "4                 Other  \n",
       "5                 Other  \n",
       "6                 Other  \n",
       "7                 Other  \n",
       "8                 Other  \n",
       "9                 Other  \n",
       "10                 Life  \n",
       "11                Other  \n",
       "12                Other  \n",
       "13                Other  \n",
       "14                Other  "
      ]
     },
     "execution_count": 144,
     "metadata": {},
     "output_type": "execute_result"
    }
   ],
   "source": [
    "# Preview a sample of the dataframe. Only selected columns displayed. Note the new column 'categorical_sentence'\n",
    "processed_life_sentences.head(15)[select_columns]"
   ]
  },
  {
   "cell_type": "markdown",
   "metadata": {},
   "source": [
    "### Drop any examples where the sentence is death.\n",
    "- Doing this primarily because this dataset clearly has errors with death sentences.\n",
    "    - Run this query: sentencing_orig.query(\"SENTENCE_TYPE == 'Death'\").groupby(\"DISPOSITION_CHARGED_OFFENSE_TITLE\")[\"CASE_ID\"].nunique()\n",
    "    - Out of the 64 examples, only 5 involve homicide. The others are clearly incorrect examples are for Credit Card Cases' and  and 'Retail Fraud'\n",
    "    - Exception is where the row also has a \"Natural Life\" in the COMMITMENT_UNIT column. These rows are kept but classified as Life sentence - not death. "
   ]
  },
  {
   "cell_type": "code",
   "execution_count": 145,
   "metadata": {},
   "outputs": [
    {
     "name": "stdout",
     "output_type": "stream",
     "text": [
      "63\n",
      "9\n"
     ]
    }
   ],
   "source": [
    "print(processed_life_sentences[\"SENTENCE_TYPE\"].str.contains(\"Death|death|DEATH\", na=False).sum())\n",
    "print(processed_life_sentences[\"COMMITMENT_TYPE\"].str.contains(\"Death|death|DEATH\", na=False).sum())"
   ]
  },
  {
   "cell_type": "code",
   "execution_count": 146,
   "metadata": {},
   "outputs": [],
   "source": [
    "def dropDeathSentence(df):\n",
    "    \"\"\"\n",
    "    Input: Cook County Dataset after it has been processed by processLifeSentences and the 'categorical_sentence' column is added. \n",
    "    Output: Input dataset minus any rows involving death sentence because most of these are clearly errors (see notes).\n",
    "    \"\"\"\n",
    "\n",
    "    #death_in_SENTENCE_TYPE = df.query(\"SENTENCE_TYPE == 'Death'\")      # 63 examples\n",
    "    death_in_SENTENCE_TYPE = df[\"SENTENCE_TYPE\"].str.contains(\"Death|death|DEATH\", na=False)\n",
    "    \n",
    "    #death_in_COMMITMENT_TYPE = df.query(\"COMMITMENT_TYPE == 'Death'\")  # 9 examples\n",
    "    death_in_COMMITMENT_TYPE = df[\"COMMITMENT_TYPE\"].str.contains(\"Death|death|DEATH\", na=False)\n",
    "\n",
    "    incorrect_death_sentences = death_in_SENTENCE_TYPE | death_in_COMMITMENT_TYPE\n",
    "    \n",
    "    # Life sentences which should not be dropped even if it appears as a death sentence. See notes.\n",
    "    life_sentences_mask = df[\"categorical_sentence\"] == \"Life\"\n",
    "\n",
    "    return df[~incorrect_death_sentences|life_sentences_mask]"
   ]
  },
  {
   "cell_type": "code",
   "execution_count": 147,
   "metadata": {},
   "outputs": [],
   "source": [
    "no_death_sentences = dropDeathSentence(processed_life_sentences)"
   ]
  },
  {
   "cell_type": "code",
   "execution_count": 148,
   "metadata": {},
   "outputs": [
    {
     "data": {
      "text/plain": [
       "56"
      ]
     },
     "execution_count": 148,
     "metadata": {},
     "output_type": "execute_result"
    }
   ],
   "source": [
    "# Number of rows removed\n",
    "len(sentencing_orig) - len(no_death_sentences)"
   ]
  },
  {
   "cell_type": "code",
   "execution_count": 149,
   "metadata": {},
   "outputs": [
    {
     "name": "stdout",
     "output_type": "stream",
     "text": [
      "0\n",
      "0\n"
     ]
    }
   ],
   "source": [
    "# Verify no rows with death sentences remain except where it is also a Life sentence\n",
    "print(((no_death_sentences[\"SENTENCE_TYPE\"].str.contains(\"Death|death|DEATH\", na=False)) & (no_death_sentences[\"categorical_sentence\"]!=\"Life\")).sum())\n",
    "print(((no_death_sentences[\"COMMITMENT_TYPE\"].str.contains(\"Death|death|DEATH\", na=False)) & (no_death_sentences[\"categorical_sentence\"]!=\"Life\")).sum())"
   ]
  },
  {
   "cell_type": "code",
   "execution_count": null,
   "metadata": {},
   "outputs": [],
   "source": []
  },
  {
   "cell_type": "markdown",
   "metadata": {},
   "source": [
    "### Figuring out other categorical sentence type"
   ]
  },
  {
   "cell_type": "markdown",
   "metadata": {},
   "source": [
    "Examples with the following COMMITMENT_TYPE should be dropped because it is either:\n",
    "   - Derived from information that is not available in this table\n",
    "        - Mental Health Probation\n",
    "        - Any NaN excluding for life sentence\n",
    "        - Gang Probation\n",
    "        - 2nd Chance Probation\n",
    "        - Veteran's Court Probation\n",
    "        - Inpatient Mental Health Services\n",
    "        - Repeat Offender Probation\n",
    "   - Too few examples (<50)\n",
    "        - Conditional Release\n",
    "        - Domestic Violence Probation\n",
    "        - Repeat Offender Probation\n",
    "        - Periodic Imprisonment \n",
    "        - Home Confinement\n",
    "        - Probation Terminated Unsatisfactorily\n",
    "        - Probation Terminated Instanter\n",
    "   - NaN (except for life sentence)\n",
    "\n",
    "Keep only these COMMITMENT_TYPE (rename ones that are grouped to the group name):\n",
    "   - \"Prison\"\n",
    "        - Illinois Department of Corrections\n",
    "        - Cook County Department of Corrections\n",
    "   - \"Boot Camp\"\n",
    "        - Cook County Boot Camp\n",
    "        - Cook County Impact Incarceration Program\n",
    "   - \"Probation\"\n",
    "        - Probation\n",
    "        - 710/410 Probation (Probation for drug offenders with no prior criminal record)\n",
    "   - \"Intensive Probation Services\"\n",
    "   - \"Conditional Discharge\"\n",
    "   - \"Court Supervision\"\n",
    "   - \"Intensive Drug Probation Services\"\n",
    "   - \"Drug Court Probation\"\n",
    "   - \"Gang Probation\"\n",
    "   - \"Sex Offender Probation\"\n",
    "   - \"Drug School\"\n",
    "   - \"Juvenile IDOC\"\n"
   ]
  },
  {
   "cell_type": "code",
   "execution_count": 150,
   "metadata": {},
   "outputs": [],
   "source": [
    "def processCOMMITMENT_TYPE(df):\n",
    "    \"\"\"\n",
    "    Input: Cook County dataset which includes \"categorical_sentence\" column added by processLifeSentences.\n",
    "    Output: Keeps only rows with select COMMITMENT_TYPE (see notes for reasons)  and drop rest.\n",
    "            Fill the column categorical_sentence with the same value as in COMMITMENT_TYPE (except for a few which are grouped together; see notes) \n",
    "    \"\"\"\n",
    "    \n",
    "    commitment_types_to_keep = [\"Illinois Department of Corrections\",\n",
    "                                \"Cook County Department of Corrections\",\n",
    "                                \"Cook County Boot Camp\",\n",
    "                                \"Cook County Impact Incarceration Program\",\n",
    "                                \"Probation\",\n",
    "                                \"710/410 Probation\",\n",
    "                                \"Intensive Probation Services\",\n",
    "                                \"Conditional Discharge\",\n",
    "                                \"Court Supervision\",\n",
    "                                \"Intensive Drug Probation Services\",\n",
    "                                \"Drug Court Probation\",\n",
    "                                \"Gang Probation\",\n",
    "                                \"Sex Offender Probation\",\n",
    "                                \"Drug School\",\n",
    "                                \"Juvenile IDOC\"]\n",
    "    commitment_types_mask = df[\"COMMITMENT_TYPE\"].isin(commitment_types_to_keep)\n",
    "    life_sentences_mask = df[\"categorical_sentence\"] == \"Life\"  # Boolean array\n",
    "    \n",
    "    # Filter only select COMMITMENT_TYPE or life sentences\n",
    "    df = df.loc[commitment_types_mask | life_sentences_mask]\n",
    "    \n",
    "    life_sentences_mask = df[\"categorical_sentence\"] == \"Life\"  # Update life sentences mask after removing select categories\n",
    "\n",
    "    # COMMITMENT_TYPE is inconsistent for life sentence; sometimes shows COMMITMENT_TYPE as 'Prison' for life sentences.\n",
    "    # For my purposes, a life sentence is different from a regular prison sentence. \n",
    "    # Whereever COMMITMENT_TYPE was 'Prison' for life sentences, overwrite that value as 'Life' before copying over to 'categorical_sentence' column.\n",
    "    \n",
    "#     updated_categorical_sentence = pd.Series(df[\"COMMITMENT_TYPE\"])  # do pd.DataFrame to avoid settingwithcopywarning which should not be given since I want to modify the copy.\n",
    "#     *********** UPDATED BELOW ***********\n",
    "    updated_categorical_sentence = df[\"COMMITMENT_TYPE\"].copy()  # force a copy which will be modified and pasted over categorical_sentence\n",
    "    updated_categorical_sentence.loc[life_sentences_mask] = \"Life\"  # Overwrite any \n",
    "    df.loc[:,\"categorical_sentence\"] = updated_categorical_sentence  # update categorical_sentence with new categories\n",
    "    \n",
    "    # Some categories have multiple names. Rename to a common one.\n",
    "    df = df.replace({'categorical_sentence':\n",
    "                     {\"Illinois Department of Corrections\": \"Prison\",\n",
    "                      \"Cook County Department of Corrections\": \"Prison\",\n",
    "                      \"Cook County Boot Camp\": \"Boot Camp\",\n",
    "                      \"Cook County Impact Incarceration Program\": \"Boot Camp\",\n",
    "                      \"710/410 Probation\": \"Probation\"}})\n",
    "\n",
    "    return df"
   ]
  },
  {
   "cell_type": "code",
   "execution_count": 151,
   "metadata": {},
   "outputs": [
    {
     "name": "stderr",
     "output_type": "stream",
     "text": [
      "C:\\Users\\minur\\Anaconda3\\lib\\site-packages\\pandas\\core\\indexing.py:494: SettingWithCopyWarning: \n",
      "A value is trying to be set on a copy of a slice from a DataFrame.\n",
      "Try using .loc[row_indexer,col_indexer] = value instead\n",
      "\n",
      "See the caveats in the documentation: http://pandas.pydata.org/pandas-docs/stable/user_guide/indexing.html#returning-a-view-versus-a-copy\n",
      "  self.obj[item] = s\n"
     ]
    }
   ],
   "source": [
    "processed_commitment_type = processCOMMITMENT_TYPE(no_death_sentences)"
   ]
  },
  {
   "cell_type": "code",
   "execution_count": 152,
   "metadata": {},
   "outputs": [
    {
     "data": {
      "text/html": [
       "<div>\n",
       "<style scoped>\n",
       "    .dataframe tbody tr th:only-of-type {\n",
       "        vertical-align: middle;\n",
       "    }\n",
       "\n",
       "    .dataframe tbody tr th {\n",
       "        vertical-align: top;\n",
       "    }\n",
       "\n",
       "    .dataframe thead th {\n",
       "        text-align: right;\n",
       "    }\n",
       "</style>\n",
       "<table border=\"1\" class=\"dataframe\">\n",
       "  <thead>\n",
       "    <tr style=\"text-align: right;\">\n",
       "      <th></th>\n",
       "      <th>DISPOSITION_CHARGED_OFFENSE_TITLE</th>\n",
       "      <th>UPDATED_OFFENSE_CATEGORY</th>\n",
       "      <th>COMMITMENT_TYPE</th>\n",
       "      <th>COMMITMENT_TERM</th>\n",
       "      <th>COMMITMENT_UNIT</th>\n",
       "      <th>categorical_sentence</th>\n",
       "    </tr>\n",
       "  </thead>\n",
       "  <tbody>\n",
       "    <tr>\n",
       "      <th>0</th>\n",
       "      <td>FIRST DEGREE MURDER</td>\n",
       "      <td>Homicide</td>\n",
       "      <td>Natural Life</td>\n",
       "      <td>NaN</td>\n",
       "      <td>NaN</td>\n",
       "      <td>Life</td>\n",
       "    </tr>\n",
       "    <tr>\n",
       "      <th>1</th>\n",
       "      <td>FIRST DEGREE MURDER</td>\n",
       "      <td>Homicide</td>\n",
       "      <td>Natural Life</td>\n",
       "      <td>NaN</td>\n",
       "      <td>NaN</td>\n",
       "      <td>Life</td>\n",
       "    </tr>\n",
       "    <tr>\n",
       "      <th>2</th>\n",
       "      <td>FIRST DEGREE MURDER</td>\n",
       "      <td>Homicide</td>\n",
       "      <td>Natural Life</td>\n",
       "      <td>NaN</td>\n",
       "      <td>NaN</td>\n",
       "      <td>Life</td>\n",
       "    </tr>\n",
       "    <tr>\n",
       "      <th>3</th>\n",
       "      <td>HOME INVASION</td>\n",
       "      <td>Homicide</td>\n",
       "      <td>Illinois Department of Corrections</td>\n",
       "      <td>30</td>\n",
       "      <td>Year(s)</td>\n",
       "      <td>Prison</td>\n",
       "    </tr>\n",
       "    <tr>\n",
       "      <th>4</th>\n",
       "      <td>HOME INVASION</td>\n",
       "      <td>Homicide</td>\n",
       "      <td>Illinois Department of Corrections</td>\n",
       "      <td>30</td>\n",
       "      <td>Year(s)</td>\n",
       "      <td>Prison</td>\n",
       "    </tr>\n",
       "    <tr>\n",
       "      <th>5</th>\n",
       "      <td>HOME INVASION</td>\n",
       "      <td>Homicide</td>\n",
       "      <td>Illinois Department of Corrections</td>\n",
       "      <td>30</td>\n",
       "      <td>Year(s)</td>\n",
       "      <td>Prison</td>\n",
       "    </tr>\n",
       "    <tr>\n",
       "      <th>6</th>\n",
       "      <td>ARMED ROBBERY</td>\n",
       "      <td>Homicide</td>\n",
       "      <td>Illinois Department of Corrections</td>\n",
       "      <td>30</td>\n",
       "      <td>Year(s)</td>\n",
       "      <td>Prison</td>\n",
       "    </tr>\n",
       "    <tr>\n",
       "      <th>7</th>\n",
       "      <td>ARMED ROBBERY</td>\n",
       "      <td>Homicide</td>\n",
       "      <td>Illinois Department of Corrections</td>\n",
       "      <td>30</td>\n",
       "      <td>Year(s)</td>\n",
       "      <td>Prison</td>\n",
       "    </tr>\n",
       "    <tr>\n",
       "      <th>8</th>\n",
       "      <td>ARMED ROBBERY</td>\n",
       "      <td>Homicide</td>\n",
       "      <td>Illinois Department of Corrections</td>\n",
       "      <td>30</td>\n",
       "      <td>Year(s)</td>\n",
       "      <td>Prison</td>\n",
       "    </tr>\n",
       "    <tr>\n",
       "      <th>9</th>\n",
       "      <td>FIRST DEGREE MURDER</td>\n",
       "      <td>Homicide</td>\n",
       "      <td>Illinois Department of Corrections</td>\n",
       "      <td>62</td>\n",
       "      <td>Year(s)</td>\n",
       "      <td>Prison</td>\n",
       "    </tr>\n",
       "    <tr>\n",
       "      <th>10</th>\n",
       "      <td>FIRST DEGREE MURDER</td>\n",
       "      <td>Homicide</td>\n",
       "      <td>Natural Life</td>\n",
       "      <td>NaN</td>\n",
       "      <td>NaN</td>\n",
       "      <td>Life</td>\n",
       "    </tr>\n",
       "    <tr>\n",
       "      <th>11</th>\n",
       "      <td>ATTEMPT ARMED ROBBERY=720-5\\8-4(18-2(A))</td>\n",
       "      <td>Homicide</td>\n",
       "      <td>Illinois Department of Corrections</td>\n",
       "      <td>15</td>\n",
       "      <td>Year(s)</td>\n",
       "      <td>Prison</td>\n",
       "    </tr>\n",
       "    <tr>\n",
       "      <th>12</th>\n",
       "      <td>ATTEMPT ARMED ROBBERY=720-5\\8-4(18-2(A))</td>\n",
       "      <td>Homicide</td>\n",
       "      <td>Illinois Department of Corrections</td>\n",
       "      <td>15</td>\n",
       "      <td>Year(s)</td>\n",
       "      <td>Prison</td>\n",
       "    </tr>\n",
       "    <tr>\n",
       "      <th>13</th>\n",
       "      <td>ATT(MURDER)=720-5\\8-4(9-1(A)(1-3))</td>\n",
       "      <td>Homicide</td>\n",
       "      <td>Illinois Department of Corrections</td>\n",
       "      <td>30</td>\n",
       "      <td>Year(s)</td>\n",
       "      <td>Prison</td>\n",
       "    </tr>\n",
       "    <tr>\n",
       "      <th>14</th>\n",
       "      <td>ATT(MURDER)=720-5\\8-4(9-1(A)(1-3))</td>\n",
       "      <td>Homicide</td>\n",
       "      <td>Illinois Department of Corrections</td>\n",
       "      <td>30</td>\n",
       "      <td>Year(s)</td>\n",
       "      <td>Prison</td>\n",
       "    </tr>\n",
       "  </tbody>\n",
       "</table>\n",
       "</div>"
      ],
      "text/plain": [
       "           DISPOSITION_CHARGED_OFFENSE_TITLE UPDATED_OFFENSE_CATEGORY  \\\n",
       "0                        FIRST DEGREE MURDER                 Homicide   \n",
       "1                        FIRST DEGREE MURDER                 Homicide   \n",
       "2                        FIRST DEGREE MURDER                 Homicide   \n",
       "3                              HOME INVASION                 Homicide   \n",
       "4                              HOME INVASION                 Homicide   \n",
       "5                              HOME INVASION                 Homicide   \n",
       "6                              ARMED ROBBERY                 Homicide   \n",
       "7                              ARMED ROBBERY                 Homicide   \n",
       "8                              ARMED ROBBERY                 Homicide   \n",
       "9                        FIRST DEGREE MURDER                 Homicide   \n",
       "10                       FIRST DEGREE MURDER                 Homicide   \n",
       "11  ATTEMPT ARMED ROBBERY=720-5\\8-4(18-2(A))                 Homicide   \n",
       "12  ATTEMPT ARMED ROBBERY=720-5\\8-4(18-2(A))                 Homicide   \n",
       "13        ATT(MURDER)=720-5\\8-4(9-1(A)(1-3))                 Homicide   \n",
       "14        ATT(MURDER)=720-5\\8-4(9-1(A)(1-3))                 Homicide   \n",
       "\n",
       "                       COMMITMENT_TYPE COMMITMENT_TERM COMMITMENT_UNIT  \\\n",
       "0                         Natural Life             NaN             NaN   \n",
       "1                         Natural Life             NaN             NaN   \n",
       "2                         Natural Life             NaN             NaN   \n",
       "3   Illinois Department of Corrections              30         Year(s)   \n",
       "4   Illinois Department of Corrections              30         Year(s)   \n",
       "5   Illinois Department of Corrections              30         Year(s)   \n",
       "6   Illinois Department of Corrections              30         Year(s)   \n",
       "7   Illinois Department of Corrections              30         Year(s)   \n",
       "8   Illinois Department of Corrections              30         Year(s)   \n",
       "9   Illinois Department of Corrections              62         Year(s)   \n",
       "10                        Natural Life             NaN             NaN   \n",
       "11  Illinois Department of Corrections              15         Year(s)   \n",
       "12  Illinois Department of Corrections              15         Year(s)   \n",
       "13  Illinois Department of Corrections              30         Year(s)   \n",
       "14  Illinois Department of Corrections              30         Year(s)   \n",
       "\n",
       "   categorical_sentence  \n",
       "0                  Life  \n",
       "1                  Life  \n",
       "2                  Life  \n",
       "3                Prison  \n",
       "4                Prison  \n",
       "5                Prison  \n",
       "6                Prison  \n",
       "7                Prison  \n",
       "8                Prison  \n",
       "9                Prison  \n",
       "10                 Life  \n",
       "11               Prison  \n",
       "12               Prison  \n",
       "13               Prison  \n",
       "14               Prison  "
      ]
     },
     "execution_count": 152,
     "metadata": {},
     "output_type": "execute_result"
    }
   ],
   "source": [
    "# Preview after adding other categories to 'categorical_sentence'\n",
    "processed_commitment_type.head(15)[select_columns]"
   ]
  },
  {
   "cell_type": "code",
   "execution_count": 153,
   "metadata": {},
   "outputs": [
    {
     "data": {
      "text/plain": [
       "4729"
      ]
     },
     "execution_count": 153,
     "metadata": {},
     "output_type": "execute_result"
    }
   ],
   "source": [
    "# Note that any rows which have a COMMITMENT_TYPE not in the selected list are dropped\n",
    "len(no_death_sentences) - len(processed_commitment_type)"
   ]
  },
  {
   "cell_type": "markdown",
   "metadata": {},
   "source": [
    "# Calculating sentence period in years"
   ]
  },
  {
   "cell_type": "markdown",
   "metadata": {},
   "source": [
    "Note: Inspected and verified that the only categories in 'categorical_sentence' which do not have COMMITMENT_TERM or COMMITMENT_UNIT are \"Life\" and \"Boot Camp\" which should not have a time duration.\n",
    "There are some instances of Life and Boot Camp having a time duration, but these are ignored because they do not make sense here.\n",
    "\n",
    "Cleaning rules:\n",
    "- For 'Life' and 'Boot Camp', the COMMITMENT_TERM and COMMITMENT_UNIT columns are ignored if they are not NaN. The sentence_period_years column will always be NaN for these examples.\n",
    "\n",
    "- The below rules apply only all categories except 'Life' and 'Boot Camp'\n",
    "    - If the COMMITMENT_TERM fails coercion to number by pandas, remove row. There appear to be a few examples where there are errors in entry (such as including the month in COMMITMENT_TERM). These are very few cases, so dropping them is the simplest thing to do.\n",
    "    - If the COMMITMENT_UNIT is not one of \\['Year(s)', 'Months', 'Weeks', 'Days'\\], drop row.\n",
    "    - If the sentence_period_years is greater than 300 years, discard row. (Doing this because I found two examples where the sentence was 2.0e6 for non-homicide.) "
   ]
  },
  {
   "cell_type": "code",
   "execution_count": 154,
   "metadata": {},
   "outputs": [],
   "source": [
    "# Split dataset into two parts: one with only 'Life'/'Boot Camp' and the other with the remaining categorical_sentence\n",
    "no_duration_set = processed_commitment_type.query(\"categorical_sentence == 'Life' | categorical_sentence =='Boot Camp'\")\n",
    "duration_set = processed_commitment_type.query(\"categorical_sentence != 'Life' & categorical_sentence !='Boot Camp'\")"
   ]
  },
  {
   "cell_type": "code",
   "execution_count": 155,
   "metadata": {},
   "outputs": [
    {
     "data": {
      "text/plain": [
       "0"
      ]
     },
     "execution_count": 155,
     "metadata": {},
     "output_type": "execute_result"
    }
   ],
   "source": [
    "# Verify that together the two sets added together are not missing any rows \n",
    "len(duration_set)+len(no_duration_set)-len(processed_commitment_type)"
   ]
  },
  {
   "cell_type": "code",
   "execution_count": 156,
   "metadata": {},
   "outputs": [
    {
     "name": "stderr",
     "output_type": "stream",
     "text": [
      "C:\\Users\\minur\\Anaconda3\\lib\\site-packages\\ipykernel_launcher.py:5: UserWarning: Boolean Series key will be reindexed to match DataFrame index.\n",
      "  \"\"\"\n"
     ]
    },
    {
     "name": "stdout",
     "output_type": "stream",
     "text": [
      "Prison: 0\n",
      "Probation: 0\n",
      "Court Supervision: 0\n",
      "Conditional Discharge: 0\n",
      "Intensive Probation Services: 0\n",
      "Drug Court Probation: 0\n",
      "Intensive Drug Probation Services: 0\n",
      "Gang Probation: 0\n",
      "Sex Offender Probation: 0\n",
      "Drug School: 0\n",
      "Juvenile IDOC: 0\n"
     ]
    }
   ],
   "source": [
    "# Confirm that there are no examples with missing COMMITMENT_TERM or COMMITMENT_UNIT\n",
    "categories = duration_set[\"categorical_sentence\"].unique()\n",
    "for category in categories:\n",
    "    rows_for_category = duration_set.query(\"categorical_sentence == @category\")\n",
    "    rows_missing_duration = rows_for_category[duration_set['COMMITMENT_TERM'].isna() | duration_set['COMMITMENT_UNIT'].isna()]\n",
    "    \n",
    "    print(f\"\"\"{category}: {len(rows_missing_duration)}\"\"\")"
   ]
  },
  {
   "cell_type": "code",
   "execution_count": 157,
   "metadata": {},
   "outputs": [
    {
     "name": "stdout",
     "output_type": "stream",
     "text": [
      "270\n"
     ]
    }
   ],
   "source": [
    "# filter only COMMITMENT_UNIT with ['Year(s)', 'Months', 'Weeks', 'Days']\n",
    "proper_units_mask = duration_set['COMMITMENT_UNIT'].isin(['Year(s)', 'Months', 'Weeks', 'Days'])\n",
    "duration_set_filtered_unit = duration_set[proper_units_mask]\n",
    "print(len(duration_set) - len(duration_set_filtered_unit))"
   ]
  },
  {
   "cell_type": "code",
   "execution_count": 158,
   "metadata": {},
   "outputs": [
    {
     "name": "stdout",
     "output_type": "stream",
     "text": [
      "4\n"
     ]
    }
   ],
   "source": [
    "# filter only rows with numeric COMMITMENT_TERM\n",
    "num_temp = pd.to_numeric(duration_set_filtered_unit[\"COMMITMENT_TERM\"], errors=\"coerce\")\n",
    "duration_set_filtered_unit_term = pd.DataFrame(duration_set_filtered_unit)\n",
    "duration_set_filtered_unit_term.loc[:,\"COMMITMENT_TERM\"] = num_temp\n",
    "duration_set_filtered_unit_term = duration_set_filtered_unit_term.dropna(subset=[\"COMMITMENT_TERM\"])\n",
    "print(len(duration_set_filtered_unit) - len(duration_set_filtered_unit_term))"
   ]
  },
  {
   "cell_type": "code",
   "execution_count": 159,
   "metadata": {},
   "outputs": [
    {
     "data": {
      "text/plain": [
       "array(['Year(s)', 'Days', 'Months', 'Weeks'], dtype=object)"
      ]
     },
     "execution_count": 159,
     "metadata": {},
     "output_type": "execute_result"
    }
   ],
   "source": [
    "# Verify COMMITMENT_UNIT includes only those that were filtered\n",
    "duration_set_filtered_unit_term[\"COMMITMENT_UNIT\"].unique()"
   ]
  },
  {
   "cell_type": "code",
   "execution_count": 160,
   "metadata": {},
   "outputs": [
    {
     "data": {
      "text/plain": [
       "731"
      ]
     },
     "execution_count": 160,
     "metadata": {},
     "output_type": "execute_result"
    }
   ],
   "source": [
    "(no_duration_set['categorical_sentence']==\"Life\").sum()"
   ]
  },
  {
   "cell_type": "code",
   "execution_count": 161,
   "metadata": {},
   "outputs": [],
   "source": [
    "# Convert all units to years\n",
    "\n",
    "all_years = duration_set_filtered_unit_term.copy()\n",
    "\n",
    "def convert_to_years(df, unit, multiplier):\n",
    "    \"\"\"\n",
    "    input: Cook County dataset which includes \"categorical_sentence\" column added by processLifeSentences.\n",
    "    output: Adds a column called 'sentence_period_years' to dataframe.\n",
    "            For COMMITMENT_UNIT which matches 'unit', fill in sentence_period_years with the value in COMMITMENT_TERM * multiplier\n",
    "            Leaves all other rows untouched.\n",
    "    \"\"\"\n",
    "\n",
    "    if (\"sentence_period_years\" not in df.columns):\n",
    "        all_years[\"sentence_period_years\"] = np.NaN  # add column which will be updated with sentence period in years\n",
    "        \n",
    "    multiplied_units = df[\"COMMITMENT_TERM\"].copy() * multiplier  # do for all rows including ones not matching 'unit'\n",
    "    unit_mask = df[\"COMMITMENT_UNIT\"] == unit\n",
    "\n",
    "#     print(unit_mask.head())\n",
    "    df.loc[unit_mask, \"sentence_period_years\"] = multiplied_units.loc[unit_mask]\n",
    "    return df\n",
    "    "
   ]
  },
  {
   "cell_type": "code",
   "execution_count": 162,
   "metadata": {},
   "outputs": [],
   "source": [
    "if \"sentence_period_years\" not in select_columns:\n",
    "    select_columns.append(\"sentence_period_years\")"
   ]
  },
  {
   "cell_type": "code",
   "execution_count": 163,
   "metadata": {},
   "outputs": [
    {
     "data": {
      "text/plain": [
       "array(['Year(s)', 'Days', 'Months', 'Weeks'], dtype=object)"
      ]
     },
     "execution_count": 163,
     "metadata": {},
     "output_type": "execute_result"
    }
   ],
   "source": [
    "all_years[\"COMMITMENT_UNIT\"].unique()"
   ]
  },
  {
   "cell_type": "code",
   "execution_count": 164,
   "metadata": {},
   "outputs": [],
   "source": [
    "all_years = convert_to_years(all_years, \"Year(s)\", 1)\n",
    "all_years = convert_to_years(all_years, \"Months\", 1/12)\n",
    "all_years = convert_to_years(all_years, \"Weeks\", 1/52)\n",
    "all_years = convert_to_years(all_years, \"Days\", 1/365.25)"
   ]
  },
  {
   "cell_type": "code",
   "execution_count": 165,
   "metadata": {},
   "outputs": [
    {
     "data": {
      "text/plain": [
       "0"
      ]
     },
     "execution_count": 165,
     "metadata": {},
     "output_type": "execute_result"
    }
   ],
   "source": [
    "# Verify that no rows are dropped\n",
    "len(duration_set_filtered_unit_term) - len(all_years)"
   ]
  },
  {
   "cell_type": "code",
   "execution_count": 166,
   "metadata": {},
   "outputs": [
    {
     "data": {
      "text/html": [
       "<div>\n",
       "<style scoped>\n",
       "    .dataframe tbody tr th:only-of-type {\n",
       "        vertical-align: middle;\n",
       "    }\n",
       "\n",
       "    .dataframe tbody tr th {\n",
       "        vertical-align: top;\n",
       "    }\n",
       "\n",
       "    .dataframe thead th {\n",
       "        text-align: right;\n",
       "    }\n",
       "</style>\n",
       "<table border=\"1\" class=\"dataframe\">\n",
       "  <thead>\n",
       "    <tr style=\"text-align: right;\">\n",
       "      <th></th>\n",
       "      <th>DISPOSITION_CHARGED_OFFENSE_TITLE</th>\n",
       "      <th>UPDATED_OFFENSE_CATEGORY</th>\n",
       "      <th>COMMITMENT_TYPE</th>\n",
       "      <th>COMMITMENT_TERM</th>\n",
       "      <th>COMMITMENT_UNIT</th>\n",
       "      <th>categorical_sentence</th>\n",
       "      <th>sentence_period_years</th>\n",
       "    </tr>\n",
       "  </thead>\n",
       "  <tbody>\n",
       "    <tr>\n",
       "      <th>236111</th>\n",
       "      <td>CRIMINAL TRESPASS TO VEHICLES</td>\n",
       "      <td>Possession of Stolen Motor Vehicle</td>\n",
       "      <td>Cook County Department of Corrections</td>\n",
       "      <td>2.0</td>\n",
       "      <td>Days</td>\n",
       "      <td>Prison</td>\n",
       "      <td>0.005476</td>\n",
       "    </tr>\n",
       "    <tr>\n",
       "      <th>236112</th>\n",
       "      <td>AGGRAVATED UNLAWFUL USE OF WEAPON</td>\n",
       "      <td>UUW - Unlawful Use of Weapon</td>\n",
       "      <td>Probation</td>\n",
       "      <td>2.0</td>\n",
       "      <td>Year(s)</td>\n",
       "      <td>Probation</td>\n",
       "      <td>2.000000</td>\n",
       "    </tr>\n",
       "    <tr>\n",
       "      <th>236113</th>\n",
       "      <td>AGGRAVATED BATTERY</td>\n",
       "      <td>Aggravated Battery Police Officer</td>\n",
       "      <td>Probation</td>\n",
       "      <td>2.0</td>\n",
       "      <td>Year(s)</td>\n",
       "      <td>Probation</td>\n",
       "      <td>2.000000</td>\n",
       "    </tr>\n",
       "    <tr>\n",
       "      <th>236114</th>\n",
       "      <td>AGG UUW/LOADED/NO FCCA/FOID</td>\n",
       "      <td>UUW - Unlawful Use of Weapon</td>\n",
       "      <td>Cook County Department of Corrections</td>\n",
       "      <td>1.0</td>\n",
       "      <td>Year(s)</td>\n",
       "      <td>Prison</td>\n",
       "      <td>1.000000</td>\n",
       "    </tr>\n",
       "    <tr>\n",
       "      <th>236115</th>\n",
       "      <td>ATTEMPT POSSESSION OF A CONTROLLED SUBSTANCE</td>\n",
       "      <td>Narcotics</td>\n",
       "      <td>Cook County Department of Corrections</td>\n",
       "      <td>39.0</td>\n",
       "      <td>Days</td>\n",
       "      <td>Prison</td>\n",
       "      <td>0.106776</td>\n",
       "    </tr>\n",
       "    <tr>\n",
       "      <th>236117</th>\n",
       "      <td>ESCAPE; FAILURE TO COMPLY WITH A CONDITION OF THE ELECTRONIC HOME MONITORING DETENTION PROGRAM</td>\n",
       "      <td>Escape - Failure to Return</td>\n",
       "      <td>Illinois Department of Corrections</td>\n",
       "      <td>2.0</td>\n",
       "      <td>Year(s)</td>\n",
       "      <td>Prison</td>\n",
       "      <td>2.000000</td>\n",
       "    </tr>\n",
       "    <tr>\n",
       "      <th>236119</th>\n",
       "      <td>PUBLIC INDECENCY/EXPOSURE/3+</td>\n",
       "      <td>Other Offense</td>\n",
       "      <td>Illinois Department of Corrections</td>\n",
       "      <td>2.0</td>\n",
       "      <td>Year(s)</td>\n",
       "      <td>Prison</td>\n",
       "      <td>2.000000</td>\n",
       "    </tr>\n",
       "    <tr>\n",
       "      <th>236120</th>\n",
       "      <td>MFG/DEL CANNABIS/2.5-10 GRAMS</td>\n",
       "      <td>Narcotics</td>\n",
       "      <td>Illinois Department of Corrections</td>\n",
       "      <td>2.0</td>\n",
       "      <td>Days</td>\n",
       "      <td>Prison</td>\n",
       "      <td>0.005476</td>\n",
       "    </tr>\n",
       "    <tr>\n",
       "      <th>236122</th>\n",
       "      <td>AGGRAVATED DRIVING UNDER THE INFLUENCE OF ALCOHOL</td>\n",
       "      <td>Aggravated DUI</td>\n",
       "      <td>Illinois Department of Corrections</td>\n",
       "      <td>1.0</td>\n",
       "      <td>Year(s)</td>\n",
       "      <td>Prison</td>\n",
       "      <td>1.000000</td>\n",
       "    </tr>\n",
       "    <tr>\n",
       "      <th>236123</th>\n",
       "      <td>VIOLATION OF THE SEX OFFENDER REGISTRATION ACT</td>\n",
       "      <td>Failure to Register as a Sex Offender</td>\n",
       "      <td>Illinois Department of Corrections</td>\n",
       "      <td>3.0</td>\n",
       "      <td>Year(s)</td>\n",
       "      <td>Prison</td>\n",
       "      <td>3.000000</td>\n",
       "    </tr>\n",
       "  </tbody>\n",
       "</table>\n",
       "</div>"
      ],
      "text/plain": [
       "                                                                     DISPOSITION_CHARGED_OFFENSE_TITLE  \\\n",
       "236111                                                                   CRIMINAL TRESPASS TO VEHICLES   \n",
       "236112                                                               AGGRAVATED UNLAWFUL USE OF WEAPON   \n",
       "236113                                                                              AGGRAVATED BATTERY   \n",
       "236114                                                                     AGG UUW/LOADED/NO FCCA/FOID   \n",
       "236115                                                    ATTEMPT POSSESSION OF A CONTROLLED SUBSTANCE   \n",
       "236117  ESCAPE; FAILURE TO COMPLY WITH A CONDITION OF THE ELECTRONIC HOME MONITORING DETENTION PROGRAM   \n",
       "236119                                                                    PUBLIC INDECENCY/EXPOSURE/3+   \n",
       "236120                                                                   MFG/DEL CANNABIS/2.5-10 GRAMS   \n",
       "236122                                               AGGRAVATED DRIVING UNDER THE INFLUENCE OF ALCOHOL   \n",
       "236123                                                  VIOLATION OF THE SEX OFFENDER REGISTRATION ACT   \n",
       "\n",
       "                     UPDATED_OFFENSE_CATEGORY  \\\n",
       "236111     Possession of Stolen Motor Vehicle   \n",
       "236112           UUW - Unlawful Use of Weapon   \n",
       "236113      Aggravated Battery Police Officer   \n",
       "236114           UUW - Unlawful Use of Weapon   \n",
       "236115                              Narcotics   \n",
       "236117             Escape - Failure to Return   \n",
       "236119                          Other Offense   \n",
       "236120                              Narcotics   \n",
       "236122                         Aggravated DUI   \n",
       "236123  Failure to Register as a Sex Offender   \n",
       "\n",
       "                              COMMITMENT_TYPE  COMMITMENT_TERM  \\\n",
       "236111  Cook County Department of Corrections              2.0   \n",
       "236112                              Probation              2.0   \n",
       "236113                              Probation              2.0   \n",
       "236114  Cook County Department of Corrections              1.0   \n",
       "236115  Cook County Department of Corrections             39.0   \n",
       "236117     Illinois Department of Corrections              2.0   \n",
       "236119     Illinois Department of Corrections              2.0   \n",
       "236120     Illinois Department of Corrections              2.0   \n",
       "236122     Illinois Department of Corrections              1.0   \n",
       "236123     Illinois Department of Corrections              3.0   \n",
       "\n",
       "       COMMITMENT_UNIT categorical_sentence  sentence_period_years  \n",
       "236111            Days               Prison               0.005476  \n",
       "236112         Year(s)            Probation               2.000000  \n",
       "236113         Year(s)            Probation               2.000000  \n",
       "236114         Year(s)               Prison               1.000000  \n",
       "236115            Days               Prison               0.106776  \n",
       "236117         Year(s)               Prison               2.000000  \n",
       "236119         Year(s)               Prison               2.000000  \n",
       "236120            Days               Prison               0.005476  \n",
       "236122         Year(s)               Prison               1.000000  \n",
       "236123         Year(s)               Prison               3.000000  "
      ]
     },
     "execution_count": 166,
     "metadata": {},
     "output_type": "execute_result"
    }
   ],
   "source": [
    "# Preview after all processing is done\n",
    "all_years.tail(10)[select_columns]"
   ]
  },
  {
   "cell_type": "code",
   "execution_count": 167,
   "metadata": {},
   "outputs": [
    {
     "name": "stderr",
     "output_type": "stream",
     "text": [
      "C:\\Users\\minur\\Anaconda3\\lib\\site-packages\\pandas\\core\\indexing.py:376: SettingWithCopyWarning: \n",
      "A value is trying to be set on a copy of a slice from a DataFrame.\n",
      "Try using .loc[row_indexer,col_indexer] = value instead\n",
      "\n",
      "See the caveats in the documentation: http://pandas.pydata.org/pandas-docs/stable/user_guide/indexing.html#returning-a-view-versus-a-copy\n",
      "  self.obj[key] = _infer_fill_value(value)\n"
     ]
    }
   ],
   "source": [
    "# Merge no_duration_set (which contains rows with Life/Boot Camp) with all_years (which is the processed duration_set)\n",
    "\n",
    "# First add 'sentence_period_years' column to no_duration_set and set all rows to NaN\n",
    "no_duration_set.loc[:,'sentence_period_years'] = np.NaN\n",
    "\n",
    "# merge no_duration_set and all_years\n",
    "sentencing_processed = no_duration_set.append(all_years)"
   ]
  },
  {
   "cell_type": "code",
   "execution_count": 168,
   "metadata": {},
   "outputs": [
    {
     "data": {
      "text/plain": [
       "0"
      ]
     },
     "execution_count": 168,
     "metadata": {},
     "output_type": "execute_result"
    }
   ],
   "source": [
    "# Verify that all rows were added\n",
    "(len(sentencing_processed)-len(all_years)) - len(no_duration_set)"
   ]
  },
  {
   "cell_type": "markdown",
   "metadata": {},
   "source": [
    "# Finished Processing"
   ]
  },
  {
   "cell_type": "code",
   "execution_count": 169,
   "metadata": {},
   "outputs": [
    {
     "name": "stdout",
     "output_type": "stream",
     "text": [
      "5059 rows from the original dataset were dropped\n",
      "This amounts to 2.14% of the original dataset\n"
     ]
    }
   ],
   "source": [
    "# Processing statistics\n",
    "len_o = len(sentencing_orig)\n",
    "len_p = len(sentencing_processed)\n",
    "len_dropped = len_o - len_p\n",
    "print(f\"{len_dropped} rows from the original dataset were dropped\")\n",
    "print(f\"This amounts to {100*len_dropped/len_o:.2f}% of the original dataset\")"
   ]
  },
  {
   "cell_type": "code",
   "execution_count": 170,
   "metadata": {},
   "outputs": [
    {
     "name": "stdout",
     "output_type": "stream",
     "text": [
      "Success! All tested rows are equal to the original.\n"
     ]
    }
   ],
   "source": [
    "# Random check for errors in data processing (Take random rows from the processed dataset and compare the original columns to the original dataset)\n",
    "\n",
    "# Reload sentencing_orig be sure we are comparing to the original data\n",
    "sentencing_orig = pd.read_csv(csv_filepath,\n",
    "                                  parse_dates=[\"DISPOSITION_DATE\", \"SENTENCE_DATE\",\n",
    "                                                 \"INCIDENT_BEGIN_DATE\", \"INCIDENT_END_DATE\",\n",
    "                                                 \"ARREST_DATE\", \"ARRAIGNMENT_DATE\", \"RECEIVED_DATE\"],\n",
    "                                  index_col=0)\n",
    "\n",
    "for i in range(1000):\n",
    "    random_row_number_in_processed_data = np.random.randint(1,len(sentencing_processed) + 1) # max = len(sentencing_processed) = [1,231066]\n",
    "    index_number_of_row = sentencing_processed.iloc[random_row_number_in_processed_data-1:random_row_number_in_processed_data].index[0]\n",
    "    original_row = sentencing_orig.loc[index_number_of_row] # note we are indexing by ID now\n",
    "    processed_row = sentencing_processed.loc[index_number_of_row]\n",
    "\n",
    "    # drop categorical sentence since it is only in processed_row.\n",
    "    compare_df = pd.DataFrame(original_row).T.append(pd.DataFrame(processed_row).T, sort=True).dropna(axis=1) #.drop(['categorical_sentence'], axis=1)  <- need this if sentencing_orig has been modified to include categorical_sentence\n",
    "    compare_df.loc[:,\"COMMITMENT_TERM\"] = pd.to_numeric(compare_df.loc[:,\"COMMITMENT_TERM\"])\n",
    "    try:\n",
    "        assert np.all(compare_df.iloc[0]==compare_df.iloc[1]), \"error - compare not equal\"\n",
    "    except:\n",
    "        print(compare_df.iloc[0]==compare_df.iloc[1])\n",
    "        print(f\"i = {i}\")\n",
    "        assert False, \"Just to break the loop so that I can see which values are different\"\n",
    "\n",
    "print(\"Success! All tested rows are equal to the original.\")"
   ]
  },
  {
   "cell_type": "code",
   "execution_count": 171,
   "metadata": {},
   "outputs": [
    {
     "data": {
      "text/plain": [
       "Black                               153570\n",
       "White [Hispanic or Latino]           35148\n",
       "White                                32456\n",
       "HISPANIC                              5744\n",
       "Asian                                 1291\n",
       "White/Black [Hispanic or Latino]      1123\n",
       "Unknown                                324\n",
       "American Indian                        121\n",
       "ASIAN                                   65\n",
       "Biracial                                33\n",
       "Name: RACE, dtype: int64"
      ]
     },
     "execution_count": 171,
     "metadata": {},
     "output_type": "execute_result"
    }
   ],
   "source": [
    "sentencing_processed[\"RACE\"].value_counts()"
   ]
  },
  {
   "cell_type": "markdown",
   "metadata": {},
   "source": [
    "### Fix incorrect race\n",
    "\n",
    "\n",
    "\n",
    "| RACE | Count|\n",
    "|------|------|\n",
    "| Black | 153570 |\n",
    "| White [Hispanic or Latino] | 35148 |\n",
    "| White | 32456 |\n",
    "| HISPANIC | 5744 |\n",
    "| Asian | 1291 |\n",
    "| White/Black [Hispanic or Latino] | 1123 |\n",
    "| Unknown | 324 |\n",
    "| American Indian | 121 |\n",
    "| ASIAN | 65 |\n",
    "| Biracial | 33 |\n",
    "\n",
    "- Merge \\[HISPANIC, White [Hispanic or Latino], White/Black [Hispanic or Latino]\\]\n",
    "- Merge \\[ASIAN, Asian\\]"
   ]
  },
  {
   "cell_type": "code",
   "execution_count": 172,
   "metadata": {},
   "outputs": [],
   "source": [
    "# Replace race names\n",
    "sentencing_processed = sentencing_processed.replace({'RACE':\n",
    "                                                     {\"White [Hispanic or Latino]\": \"Hispanic\",\n",
    "                                                      \"HISPANIC\": \"Hispanic\",\n",
    "                                                      \"White/Black [Hispanic or Latino]\": \"Hispanic\",\n",
    "                                                      \"ASIAN\": \"Asian\",\n",
    "                                                      \"710/410 Probation\": \"Probation\"}})\n",
    "\n",
    "# Fill race = NaN with 'Unknown'\n",
    "missing_race = sentencing_processed[\"RACE\"].isna()\n",
    "sentencing_processed.loc[missing_race,\"RACE\"] = \"Unknown\""
   ]
  },
  {
   "cell_type": "markdown",
   "metadata": {},
   "source": [
    "### Fix possibly incorrect sentence period"
   ]
  },
  {
   "cell_type": "code",
   "execution_count": 173,
   "metadata": {},
   "outputs": [],
   "source": [
    "# Limit max sentence_period_years to 100 years. About 30 rows affected\n",
    "limit_years_mask = sentencing_processed[\"sentence_period_years\"] > 100\n",
    "sentencing_processed.loc[limit_years_mask, \"sentence_period_years\"] =  100\n",
    "# sentencing_processed.sort_values(by=[\"sentence_period_years\"], ascending=False)[[\"sentence_period_years\", \"UPDATED_OFFENSE_CATEGORY\", \"categorical_sentence\"]].head(50)"
   ]
  },
  {
   "cell_type": "markdown",
   "metadata": {},
   "source": [
    "### Fix possibly incorrect age at incident"
   ]
  },
  {
   "cell_type": "code",
   "execution_count": 175,
   "metadata": {},
   "outputs": [],
   "source": [
    "# Replace age>100 with median age\n",
    "median_age = np.median(sentencing_processed[\"AGE_AT_INCIDENT\"].dropna())\n",
    "\n",
    "limit_age_mask = sentencing_processed[\"AGE_AT_INCIDENT\"] > 100\n",
    "sentencing_processed.loc[limit_age_mask, \"AGE_AT_INCIDENT\"] =  median_age"
   ]
  },
  {
   "cell_type": "code",
   "execution_count": 179,
   "metadata": {},
   "outputs": [
    {
     "data": {
      "text/plain": [
       "86.0"
      ]
     },
     "execution_count": 179,
     "metadata": {},
     "output_type": "execute_result"
    }
   ],
   "source": [
    "np.max(sentencing_processed[\"AGE_AT_INCIDENT\"])  # should be < 100"
   ]
  },
  {
   "cell_type": "code",
   "execution_count": 180,
   "metadata": {},
   "outputs": [],
   "source": [
    "# Save processed data to disk\n",
    "sentencing_processed.to_csv(\"Sentencing_processed_data.csv\")  # when reading, remember to set index_column=0"
   ]
  },
  {
   "cell_type": "markdown",
   "metadata": {},
   "source": [
    "----------------------------"
   ]
  },
  {
   "cell_type": "markdown",
   "metadata": {},
   "source": [
    "# Appendix\n",
    "Haven't cleaned this up but there is some useful information which should not be deleted."
   ]
  },
  {
   "cell_type": "markdown",
   "metadata": {},
   "source": [
    "# List of possible errors in dataset\n",
    "1. CASE_ID 113570699133 - sentenced to death for posession of cannabis"
   ]
  },
  {
   "cell_type": "markdown",
   "metadata": {},
   "source": [
    "### Commitment term / unit processing\n",
    "1. Only keep rows with commitment unit of [Days, Months, Natural Life]\n",
    "1. Sentence can be:\n",
    "    - a time in days, months or years\n",
    "        - Time period can be taken from (COMMITMENT_TERM, COMMITMENT_UNIT) columns.\n",
    "    - or one of three categorical outcomes:\n",
    "        - Death (Ignore)\n",
    "        - Life Sentence\n",
    "        - Cook County Boot Camp\n",
    "\n",
    "1. Reason why 'Death' is ignored:\n",
    "    - sentencing_orig[sentencing_orig.eq('Death').any(axis=1)]\n",
    "    - 'Death' appears only 9 times under COMMITMENT_TYPE and 63 times under SENTENCE_TYPE.\n",
    "    - Decided to ignore Death penalty because all of It appears to be clearly incorrect.\n",
    "    - The two different ways of looking for Death sentences with some overlap in the examples gotten from each method (see below).\n",
    "    - When Death appears under SENTENCE_TYPE:\n",
    "        - sentencing_orig.query(\"SENTENCE_TYPE=='Death'\")\n",
    "        - This is likely incorrect because many of the charges are fairly minor (possesion of cannabis, DUI, robbery, etc.) and do not include murder which is mandatory according to https://deathpenaltyinfo.org/facts-and-research/crimes-punishable-by-death . I checked that the CASE_PARTICIPANT_ID does not also include other crimes (CASE_COUNT mostly 1) which could have explained the death penalty through the other charges (although this shouldn't really be a valid reason as each crime gets an individual sentence).\n",
    "        - 61/63 examples include (COMMITMENT_TERM, COMMITMENT_UNIT) information that is a time period (Of the ones without a time period, 1 has (NaN, NaN) and one has (1, Term) instead)\n",
    "    \n",
    "    - When Death appears under SENTENCE_TYPE: \n",
    "        - sentencing_orig.query(\"COMMITMENT_TYPE=='Death'\")\n",
    "        - Under COMMITMENT_TYPE, it appears to have (COMMITMENT_TERM,COMMITMENT_UNIT) of (1, Natural Life) for 7 examples and 1 each of (NaN, NaN) and (0, Term).\n",
    "        - Again, only 5/9 examples include murder. This site shows that it is impossible to be sentenced to death for a non-murder in Illinois https://deathpenaltyinfo.org/facts-and-research/crimes-punishable-by-death/death-penalty-for-offenses-other-than-murder\n",
    "\n",
    "    - Since almost all of these examples (both types) include a time period and since the death penalty looks unlikely in many of these cases, I will ignore the death penalty and just take the time period in (COMMITMENT_TERM, COMMITMENT_UNIT)\n",
    "   \n",
    "1. How to decide whether sentence is 'Natural Life':\n",
    "    - \"Life sentence' expressed in several different ways in this dataset:\n",
    "        - COMMITMENT_UNIT=='Natural Life' = 712\n",
    "        - COMMITMENT_TYPE=='Natural Life' and COMMITMENT_UNIT=='NaN'; count = 20\n",
    "    - it seems you can have COMMITMENT_TYPE='Natural Life' or you can have COMMITMENT_UNIT='Natural Life'\n",
    "\n",
    "1. Assumption: For crimes that involve multiple charges, we assume that each conviction is sentenced independantly of the others and is neither influenced by the other nor is the maximum sentence for a single charge applied to each of the individual charges. The opposite of this can be easily proven by inspection (i.e. pick a CASE_ID that has multiple charges and you can find different sentences for each of the charges. Whether or not this holds for all CASE_IDs is not known but is likely from what I have read about how sentencing works.\n",
    "\n",
    "1. Drop all convictions that involve cannabis because the sentencing has likely changed over the years.\n",
    "\n",
    "1. Something to look at would be to see if the number of convictions for a single crime affects the sentence. To do this, replace the CHARGE_COUNT for a single CASE_ID, with the highest count OR manually count the number of charges for a single CASE_ID for each CASE_ID. Another thing to try would be to only take the charge which has PRIMARY_CHARGE=True and drop all of the other rows for the CASE_ID. \n",
    "\n",
    "- Categorical outcomes: Life sentence, Cook County Boot Camp"
   ]
  },
  {
   "cell_type": "markdown",
   "metadata": {},
   "source": [
    "# Todo\n",
    "\n",
    "Column descriptions: https://datacatalog.cookcountyil.gov/Courts/Sentencing/tg8v-tm6u\n",
    "\n",
    "### Exploratory Data Analsis\n",
    "- Look at the data manually and try to find rare charges for which we have too little information to make predictions and remove these examples OR use only the top 10 charges and ignore the rest.\n",
    "- PLot a covariance matrix of sentence length vs each of the other variables. It will be interesting to see how things like case duration and age at time of sentence corellate to sentence length.\n",
    "- Plot Sankey diagrams of the following:\n",
    "    - Left: what people were arrested, Right: what they are charged for.\n",
    "    - Left: charge disposition title, right: sentence duration discretized to 5 year blocks (make sure the order on the right is correct).\n",
    "    - Left: percentage of race by population of cook county/ Chicago, Right: percentage of race as represented in this dataset\n",
    "\n",
    "### Machine Learning:\n",
    "- Look at the proper way to determine a life sentence (i.e. which columns, etc) -> Use life_COMMITMENT_UNIT==True OR life_COMMITMENT_TYPE==True\n",
    "- Look at the proper way to determine a cook county boot camp (i.e. which columns, etc)\n",
    "- Figure out a conversion for the time for prison sentences (must convert days, months, years to a unique value)\n",
    "- How to deal with all of the possible charges (DISPOSITION_CHARGED_OFFENSE_TITLE) has ~1600 possible charges. See [this](https://stats.stackexchange.com/questions/146907/principled-way-of-collapsing-categorical-variables-with-many-levels).\n",
    "- Should I use classification or regression here? Even though a sentence is in a continuous unit (time), only a very few values seem to be used. For instance, in the worst case senario, there are only ~2000 unique sentences in this dataset of ~200,000 which is around 1% of unique cases. This data, however is ordinal and if we use a naive classification method, we will be losing information. A solution to this would be to use the method described [here](https://towardsdatascience.com/simple-trick-to-train-an-ordinal-regression-with-any-classifier-6911183d2a3c). If using classification, we could also simplify the problem and decrease weeor by binning any sentences that appear very close together (e.g. use 1 dimensional k-means on the log transform of the prediction (otherwise, you will end up with smaller cluster for the longer duration sentences because even if they change by 1 year, this will be much more than a sentences in the range of say 1 week and 90 days which appear to be more different to each other than the 1 year change for a 30 year sentence.\n",
    "    - Using classification also solves the problem of dealing with life sentences and boot camp with the continuous time duration sentences.\n",
    "    - Also try regression, again with log transformed predictions (because again, we care more about the relative differences in time periods). I think random forest regression would work much better than ridge/lasso because the targets are not continuously distributed.\n",
    "- For life sentence / boot camp:\n",
    "    - try a fixed duration like 50 years for life sentence (look at whether Chicago has a limit on life sentence, if yes, use that limit)\n",
    "    - \\[Use average life expectancy of a person in the US\\] - \\[age at arrest\\]\n",
    "    - for boot camp try 0 years\n",
    "\n",
    "- See which offense type has the lowest R^2 value - this might be an indicator of crimes which may be the most inconsistently judged\n",
    "- Run several versions of the algorithm\n",
    "    - One with everything except sentence length\n",
    "    - One whose objective is to predict sentence given the true crime (which is established by the judge) but no other features that depend on the case itself (case duration, charge_disposition_title, charge_disposition, any other features that incluse \\*disposition\\*, SENTENCE_JUDGE, etc.)\n",
    "    - One with only the information available at time of arrest (remove everything feature after arrest, including the features that were kept above)\n",
    "\n",
    "- Try using [XGBoost](https://xgboost.readthedocs.io/en/latest/tutorials/model.html)"
   ]
  },
  {
   "cell_type": "code",
   "execution_count": 224,
   "metadata": {},
   "outputs": [
    {
     "data": {
      "text/plain": [
       "236124"
      ]
     },
     "execution_count": 224,
     "metadata": {},
     "output_type": "execute_result"
    }
   ],
   "source": [
    "len(sentencing_orig)"
   ]
  },
  {
   "cell_type": "markdown",
   "metadata": {},
   "source": [
    "### Law facts\n",
    "- A crime may bring multiple charges and sentences, but usually only the longest sentence is served because of the 'No Double punishment rule'\n"
   ]
  },
  {
   "cell_type": "markdown",
   "metadata": {},
   "source": [
    "### Things about the legal system that are hard to believe\n",
    "- \"For example, in one California case, a defendant kidnapped a woman, drove her into the desert, and raped her. He was convicted of kidnapping and rape, but because the court found that these crimes were part of a single, continuous criminal plan, he could be punished for only one conviction (kidnapping, which carried the longer sentence). But from a victim’s point of view, surely being kidnapped and then raped is more damaging than a kidnapping without a rape; yet the defendant who does both will be punished as if the rape had not occurred.\" [https://www.lawyers.com/legal-info/criminal/criminal-law-basics/how-do-multiple-convictions-affect-my-sentence.html]\n",
    "- This also seems to work sometimes for separately commited offenses so it makes sense to try to get as many offenses into a single trial [https://www.law.ox.ac.uk/centres-institutes/centre-criminology/blog/2016/01/more-one-crime-sentencing-multiple-offences] \n"
   ]
  }
 ],
 "metadata": {
  "kernelspec": {
   "display_name": "Python 3",
   "language": "python",
   "name": "python3"
  },
  "language_info": {
   "codemirror_mode": {
    "name": "ipython",
    "version": 3
   },
   "file_extension": ".py",
   "mimetype": "text/x-python",
   "name": "python",
   "nbconvert_exporter": "python",
   "pygments_lexer": "ipython3",
   "version": "3.6.5"
  }
 },
 "nbformat": 4,
 "nbformat_minor": 4
}
